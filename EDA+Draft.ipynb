{
 "cells": [
  {
   "cell_type": "code",
   "execution_count": null,
   "metadata": {
    "id": "XfS-GXns7Jo9"
   },
   "outputs": [],
   "source": [
    "import pandas as pd\n",
    "import os\n",
    "\n",
    "pd.options.display.max_colwidth = 100"
   ]
  },
  {
   "cell_type": "code",
   "execution_count": null,
   "metadata": {
    "id": "NbEkN3dKmXk-"
   },
   "outputs": [],
   "source": [
    "os.chdir(\"/content/drive/MyDrive/SKBKonturTest\")"
   ]
  },
  {
   "cell_type": "markdown",
   "metadata": {
    "id": "Nz7a-bGst-n7"
   },
   "source": [
    "## Get data"
   ]
  },
  {
   "cell_type": "code",
   "execution_count": null,
   "metadata": {
    "colab": {
     "base_uri": "https://localhost:8080/"
    },
    "executionInfo": {
     "elapsed": 12015,
     "status": "ok",
     "timestamp": 1606901816196,
     "user": {
      "displayName": "Arshak Mkhoyan",
      "photoUrl": "",
      "userId": "14297434837926834507"
     },
     "user_tz": -300
    },
    "id": "r5fpdncWmV_h",
    "outputId": "30ca29c6-d014-47ea-b44c-d4e5e0835e75"
   },
   "outputs": [
    {
     "name": "stderr",
     "output_type": "stream",
     "text": [
      "/usr/local/lib/python3.6/dist-packages/numpy/lib/arraysetops.py:569: FutureWarning: elementwise comparison failed; returning scalar instead, but in the future will perform elementwise comparison\n",
      "  mask |= (ar1 == a)\n"
     ]
    }
   ],
   "source": [
    "test = pd.read_csv('Data/test_data.tsv', sep='\\t', index_col=0)\n",
    "train = pd.read_csv('Data/train_data.tsv', sep='\\t', index_col=0)"
   ]
  },
  {
   "cell_type": "markdown",
   "metadata": {
    "id": "Oxn7Ov71ze_4"
   },
   "source": [
    "## EDA"
   ]
  },
  {
   "cell_type": "code",
   "execution_count": null,
   "metadata": {
    "colab": {
     "base_uri": "https://localhost:8080/",
     "height": 272
    },
    "executionInfo": {
     "elapsed": 954,
     "status": "ok",
     "timestamp": 1606631589259,
     "user": {
      "displayName": "Arshak Mkhoyan",
      "photoUrl": "",
      "userId": "14297434837926834507"
     },
     "user_tz": -300
    },
    "id": "OJnbn61enXE8",
    "outputId": "27674124-346e-4fc9-a036-786694da74d7"
   },
   "outputs": [
    {
     "name": "stdout",
     "output_type": "stream",
     "text": [
      "Shape train: (3983203, 3)\n",
      "False    0.954088\n",
      "True     0.045912\n",
      "Name: answer, dtype: float64\n"
     ]
    },
    {
     "data": {
      "text/html": [
       "<div>\n",
       "<style scoped>\n",
       "    .dataframe tbody tr th:only-of-type {\n",
       "        vertical-align: middle;\n",
       "    }\n",
       "\n",
       "    .dataframe tbody tr th {\n",
       "        vertical-align: top;\n",
       "    }\n",
       "\n",
       "    .dataframe thead th {\n",
       "        text-align: right;\n",
       "    }\n",
       "</style>\n",
       "<table border=\"1\" class=\"dataframe\">\n",
       "  <thead>\n",
       "    <tr style=\"text-align: right;\">\n",
       "      <th></th>\n",
       "      <th>ru_name</th>\n",
       "      <th>eng_name</th>\n",
       "      <th>answer</th>\n",
       "    </tr>\n",
       "  </thead>\n",
       "  <tbody>\n",
       "    <tr>\n",
       "      <th>0</th>\n",
       "      <td>Общество с ограниченной ответственностью \"ЕВА\"</td>\n",
       "      <td>\"Langford Travel\"</td>\n",
       "      <td>False</td>\n",
       "    </tr>\n",
       "    <tr>\n",
       "      <th>1</th>\n",
       "      <td>Общество с ограниченной ответственностью \"ФОРВ...</td>\n",
       "      <td>AMARA</td>\n",
       "      <td>False</td>\n",
       "    </tr>\n",
       "    <tr>\n",
       "      <th>2</th>\n",
       "      <td>ООО \"Меллита\"</td>\n",
       "      <td>\"MAX-TRANS\" Limited liability company</td>\n",
       "      <td>False</td>\n",
       "    </tr>\n",
       "    <tr>\n",
       "      <th>3</th>\n",
       "      <td>ЗАКРЫТОЕ АКЦИОНЕРНОЕ ОБЩЕСТВО \"ПЕТОЙЛ\" (открыт...</td>\n",
       "      <td>\"Computational Technologies\" Ltd</td>\n",
       "      <td>False</td>\n",
       "    </tr>\n",
       "    <tr>\n",
       "      <th>4</th>\n",
       "      <td>Общество с ограниченной ответственностью \"Конц...</td>\n",
       "      <td>\"Ad.Arty\"</td>\n",
       "      <td>False</td>\n",
       "    </tr>\n",
       "  </tbody>\n",
       "</table>\n",
       "</div>"
      ],
      "text/plain": [
       "                                             ru_name  ... answer\n",
       "0     Общество с ограниченной ответственностью \"ЕВА\"  ...  False\n",
       "1  Общество с ограниченной ответственностью \"ФОРВ...  ...  False\n",
       "2                                      ООО \"Меллита\"  ...  False\n",
       "3  ЗАКРЫТОЕ АКЦИОНЕРНОЕ ОБЩЕСТВО \"ПЕТОЙЛ\" (открыт...  ...  False\n",
       "4  Общество с ограниченной ответственностью \"Конц...  ...  False\n",
       "\n",
       "[5 rows x 3 columns]"
      ]
     },
     "execution_count": 12,
     "metadata": {
      "tags": []
     },
     "output_type": "execute_result"
    }
   ],
   "source": [
    "print(f'Shape train: {train.shape}')\n",
    "print(train['answer'].value_counts(normalize=True))\n",
    "train.head()"
   ]
  },
  {
   "cell_type": "code",
   "execution_count": null,
   "metadata": {
    "colab": {
     "base_uri": "https://localhost:8080/",
     "height": 221
    },
    "executionInfo": {
     "elapsed": 1100,
     "status": "ok",
     "timestamp": 1606631614134,
     "user": {
      "displayName": "Arshak Mkhoyan",
      "photoUrl": "",
      "userId": "14297434837926834507"
     },
     "user_tz": -300
    },
    "id": "AjdsvtYQtK-g",
    "outputId": "e66f3dcb-c37c-486b-809f-f50342d70498"
   },
   "outputs": [
    {
     "name": "stdout",
     "output_type": "stream",
     "text": [
      "Shape test: (996052, 2)\n"
     ]
    },
    {
     "data": {
      "text/html": [
       "<div>\n",
       "<style scoped>\n",
       "    .dataframe tbody tr th:only-of-type {\n",
       "        vertical-align: middle;\n",
       "    }\n",
       "\n",
       "    .dataframe tbody tr th {\n",
       "        vertical-align: top;\n",
       "    }\n",
       "\n",
       "    .dataframe thead th {\n",
       "        text-align: right;\n",
       "    }\n",
       "</style>\n",
       "<table border=\"1\" class=\"dataframe\">\n",
       "  <thead>\n",
       "    <tr style=\"text-align: right;\">\n",
       "      <th></th>\n",
       "      <th>ru_name</th>\n",
       "      <th>eng_name</th>\n",
       "    </tr>\n",
       "  </thead>\n",
       "  <tbody>\n",
       "    <tr>\n",
       "      <th>0</th>\n",
       "      <td>ООО \"Технология-СМ\"</td>\n",
       "      <td>TRANSMOROZ GMBH</td>\n",
       "    </tr>\n",
       "    <tr>\n",
       "      <th>1</th>\n",
       "      <td>Общество с ограниченной ответственностью Научн...</td>\n",
       "      <td>\"OBS\" Limited Liability Company</td>\n",
       "    </tr>\n",
       "    <tr>\n",
       "      <th>2</th>\n",
       "      <td>Общество с ограниченной ответственностью \"Торг...</td>\n",
       "      <td>Synthesis Engineering LTD</td>\n",
       "    </tr>\n",
       "    <tr>\n",
       "      <th>3</th>\n",
       "      <td>ООО \"ТД \"Грумант\"</td>\n",
       "      <td>\"RMP Forwarder\" Company Limited</td>\n",
       "    </tr>\n",
       "    <tr>\n",
       "      <th>4</th>\n",
       "      <td>ООО \"Отис\"</td>\n",
       "      <td>\"Russian blinis\" limited liability company</td>\n",
       "    </tr>\n",
       "  </tbody>\n",
       "</table>\n",
       "</div>"
      ],
      "text/plain": [
       "                                             ru_name                                    eng_name\n",
       "0                                ООО \"Технология-СМ\"                             TRANSMOROZ GMBH\n",
       "1  Общество с ограниченной ответственностью Научн...             \"OBS\" Limited Liability Company\n",
       "2  Общество с ограниченной ответственностью \"Торг...                   Synthesis Engineering LTD\n",
       "3                                  ООО \"ТД \"Грумант\"             \"RMP Forwarder\" Company Limited\n",
       "4                                         ООО \"Отис\"  \"Russian blinis\" limited liability company"
      ]
     },
     "execution_count": 14,
     "metadata": {
      "tags": []
     },
     "output_type": "execute_result"
    }
   ],
   "source": [
    "print(f'Shape test: {test.shape}')\n",
    "test.head()"
   ]
  },
  {
   "cell_type": "code",
   "execution_count": null,
   "metadata": {
    "colab": {
     "base_uri": "https://localhost:8080/",
     "height": 805
    },
    "executionInfo": {
     "elapsed": 1224,
     "status": "ok",
     "timestamp": 1606632044261,
     "user": {
      "displayName": "Arshak Mkhoyan",
      "photoUrl": "",
      "userId": "14297434837926834507"
     },
     "user_tz": -300
    },
    "id": "Rth34wg6pwUr",
    "outputId": "3a2a3aa2-3da6-4c24-ab29-76aec9703404"
   },
   "outputs": [
    {
     "data": {
      "text/html": [
       "<div>\n",
       "<style scoped>\n",
       "    .dataframe tbody tr th:only-of-type {\n",
       "        vertical-align: middle;\n",
       "    }\n",
       "\n",
       "    .dataframe tbody tr th {\n",
       "        vertical-align: top;\n",
       "    }\n",
       "\n",
       "    .dataframe thead th {\n",
       "        text-align: right;\n",
       "    }\n",
       "</style>\n",
       "<table border=\"1\" class=\"dataframe\">\n",
       "  <thead>\n",
       "    <tr style=\"text-align: right;\">\n",
       "      <th></th>\n",
       "      <th>ru_name</th>\n",
       "      <th>eng_name</th>\n",
       "      <th>answer</th>\n",
       "    </tr>\n",
       "  </thead>\n",
       "  <tbody>\n",
       "    <tr>\n",
       "      <th>48</th>\n",
       "      <td>Некоммерческое партнерство \"Компьютерная сеть \"Микролан\"</td>\n",
       "      <td>Microlan</td>\n",
       "      <td>True</td>\n",
       "    </tr>\n",
       "    <tr>\n",
       "      <th>62</th>\n",
       "      <td>Общество с ограниченной ответственностью \"Торговый дом Ачинск\"</td>\n",
       "      <td>Limited Liadility Company \"Trade House Achinsk\"</td>\n",
       "      <td>True</td>\n",
       "    </tr>\n",
       "    <tr>\n",
       "      <th>76</th>\n",
       "      <td>Общество с ограниченной ответственностью \"Вендинг\"</td>\n",
       "      <td>\"Vending\" Ltd</td>\n",
       "      <td>True</td>\n",
       "    </tr>\n",
       "    <tr>\n",
       "      <th>164</th>\n",
       "      <td>Общество с ограниченной ответственностью \"Бухта Капитанов\"</td>\n",
       "      <td>\"The Bay of Captains\" Ltd</td>\n",
       "      <td>True</td>\n",
       "    </tr>\n",
       "    <tr>\n",
       "      <th>182</th>\n",
       "      <td>ЗАО \"Пристень-cахар\"</td>\n",
       "      <td>Open Joint Stock Company \"Pristen-sugar\"</td>\n",
       "      <td>True</td>\n",
       "    </tr>\n",
       "    <tr>\n",
       "      <th>200</th>\n",
       "      <td>Закрытое акционерное общество \"ВИРО-Дальний Восток\"</td>\n",
       "      <td>Joint stock company \"VIRO-Far East\"</td>\n",
       "      <td>True</td>\n",
       "    </tr>\n",
       "    <tr>\n",
       "      <th>206</th>\n",
       "      <td>Общество с ограниченной ответственностью \"Магма\"</td>\n",
       "      <td>LTD MAGMA</td>\n",
       "      <td>True</td>\n",
       "    </tr>\n",
       "    <tr>\n",
       "      <th>221</th>\n",
       "      <td>Общество с ограниченной ответственностью \"АИРСОФТГАНС\"</td>\n",
       "      <td>\"AIRSOFTGUNS\" LLC</td>\n",
       "      <td>True</td>\n",
       "    </tr>\n",
       "    <tr>\n",
       "      <th>228</th>\n",
       "      <td>Общество с ограниченной ответственностью \"ЛОКАЛ ТОРИН\"</td>\n",
       "      <td>LLC \"LOKAL TORIN\"</td>\n",
       "      <td>True</td>\n",
       "    </tr>\n",
       "    <tr>\n",
       "      <th>243</th>\n",
       "      <td>АНТ</td>\n",
       "      <td>Association independent TV and Radio Broadcasters</td>\n",
       "      <td>True</td>\n",
       "    </tr>\n",
       "    <tr>\n",
       "      <th>250</th>\n",
       "      <td>ООО \"Юнион-Маркет\"</td>\n",
       "      <td>Union-Market</td>\n",
       "      <td>True</td>\n",
       "    </tr>\n",
       "    <tr>\n",
       "      <th>261</th>\n",
       "      <td>ЗАО \"ОТК\"</td>\n",
       "      <td>\"United Trade Company\" JSC</td>\n",
       "      <td>True</td>\n",
       "    </tr>\n",
       "    <tr>\n",
       "      <th>290</th>\n",
       "      <td>ООО \"ИмператорЪ\"</td>\n",
       "      <td>Сompany Limited \"Imperator\"</td>\n",
       "      <td>True</td>\n",
       "    </tr>\n",
       "    <tr>\n",
       "      <th>295</th>\n",
       "      <td>ОБЩЕСТВО С ОГРАНИЧЕННОЙ ОТВЕТСТВЕННОСТЬЮ \"АРТЕЛЬ ГРУПП\"</td>\n",
       "      <td>Limited liability company \"CRISTAL LOVE\"</td>\n",
       "      <td>True</td>\n",
       "    </tr>\n",
       "    <tr>\n",
       "      <th>303</th>\n",
       "      <td>Общество с ограниченной ответственностью \"СВАН-Инжиниринг\"</td>\n",
       "      <td>SVAN-Engineering Limited Liability Company</td>\n",
       "      <td>True</td>\n",
       "    </tr>\n",
       "    <tr>\n",
       "      <th>305</th>\n",
       "      <td>Ликвидационная комиссия Общество с ограниченной ответственностью \"ГИКС\" (принято решение о ликви...</td>\n",
       "      <td>GIKS LTD</td>\n",
       "      <td>True</td>\n",
       "    </tr>\n",
       "    <tr>\n",
       "      <th>307</th>\n",
       "      <td>ООО \"СХС.РУ\"</td>\n",
       "      <td>\"SHS.RU\" LLC</td>\n",
       "      <td>True</td>\n",
       "    </tr>\n",
       "    <tr>\n",
       "      <th>327</th>\n",
       "      <td>ООО РА \"ПМ\"</td>\n",
       "      <td>Limited Company Publicity agency \"Perpetuum mobile\"</td>\n",
       "      <td>True</td>\n",
       "    </tr>\n",
       "    <tr>\n",
       "      <th>332</th>\n",
       "      <td>ООО \"Автовозов\"</td>\n",
       "      <td>Avtovozov, LLC</td>\n",
       "      <td>True</td>\n",
       "    </tr>\n",
       "    <tr>\n",
       "      <th>342</th>\n",
       "      <td>Общество с ограниченной ответственностью \"Межотраслевое Объединение Сервиса\"</td>\n",
       "      <td>\"Mosconsaltgrupp\" Company Limited</td>\n",
       "      <td>True</td>\n",
       "    </tr>\n",
       "  </tbody>\n",
       "</table>\n",
       "</div>"
      ],
      "text/plain": [
       "                                                                                                 ru_name  ... answer\n",
       "48                                              Некоммерческое партнерство \"Компьютерная сеть \"Микролан\"  ...   True\n",
       "62                                        Общество с ограниченной ответственностью \"Торговый дом Ачинск\"  ...   True\n",
       "76                                                    Общество с ограниченной ответственностью \"Вендинг\"  ...   True\n",
       "164                                           Общество с ограниченной ответственностью \"Бухта Капитанов\"  ...   True\n",
       "182                                                                                 ЗАО \"Пристень-cахар\"  ...   True\n",
       "200                                                  Закрытое акционерное общество \"ВИРО-Дальний Восток\"  ...   True\n",
       "206                                                     Общество с ограниченной ответственностью \"Магма\"  ...   True\n",
       "221                                               Общество с ограниченной ответственностью \"АИРСОФТГАНС\"  ...   True\n",
       "228                                               Общество с ограниченной ответственностью \"ЛОКАЛ ТОРИН\"  ...   True\n",
       "243                                                                                                  АНТ  ...   True\n",
       "250                                                                                   ООО \"Юнион-Маркет\"  ...   True\n",
       "261                                                                                            ЗАО \"ОТК\"  ...   True\n",
       "290                                                                                     ООО \"ИмператорЪ\"  ...   True\n",
       "295                                              ОБЩЕСТВО С ОГРАНИЧЕННОЙ ОТВЕТСТВЕННОСТЬЮ \"АРТЕЛЬ ГРУПП\"  ...   True\n",
       "303                                           Общество с ограниченной ответственностью \"СВАН-Инжиниринг\"  ...   True\n",
       "305  Ликвидационная комиссия Общество с ограниченной ответственностью \"ГИКС\" (принято решение о ликви...  ...   True\n",
       "307                                                                                         ООО \"СХС.РУ\"  ...   True\n",
       "327                                                                                          ООО РА \"ПМ\"  ...   True\n",
       "332                                                                                      ООО \"Автовозов\"  ...   True\n",
       "342                         Общество с ограниченной ответственностью \"Межотраслевое Объединение Сервиса\"  ...   True\n",
       "\n",
       "[20 rows x 3 columns]"
      ]
     },
     "execution_count": 19,
     "metadata": {
      "tags": []
     },
     "output_type": "execute_result"
    }
   ],
   "source": [
    "train[train['answer']].head(20)"
   ]
  },
  {
   "cell_type": "code",
   "execution_count": null,
   "metadata": {
    "colab": {
     "base_uri": "https://localhost:8080/"
    },
    "executionInfo": {
     "elapsed": 1847,
     "status": "ok",
     "timestamp": 1606633332191,
     "user": {
      "displayName": "Arshak Mkhoyan",
      "photoUrl": "",
      "userId": "14297434837926834507"
     },
     "user_tz": -300
    },
    "id": "_S0Z5DE4tevi",
    "outputId": "33668505-2aee-4497-be26-83ad09c1c4ec"
   },
   "outputs": [
    {
     "data": {
      "text/plain": [
       "Общество с ограниченной ответственностью \"Альянс\"                              32\n",
       "Общество с ограниченной ответственностью \"Вектор\"                              27\n",
       "ООО \"Альянс\"                                                                   27\n",
       "ООО \"Вектор\"                                                                   25\n",
       "ООО \"Лидер\"                                                                    25\n",
       "                                                                               ..\n",
       "ООО \"Восход СПб\"                                                                1\n",
       "Закрытое акционерное общество \"Электронимпекс\"                                  1\n",
       "Общество с ограниченной ответственностью \"Екатеринбургский цементный завод\"     1\n",
       "Общество с ограниченной ответственностью \"Издательский дом КТ\"                  1\n",
       "ООО \"Катро-Сервис\"                                                              1\n",
       "Name: ru_name, Length: 170839, dtype: int64"
      ]
     },
     "execution_count": 20,
     "metadata": {
      "tags": []
     },
     "output_type": "execute_result"
    }
   ],
   "source": [
    "train[train['answer']]['ru_name'].value_counts()"
   ]
  },
  {
   "cell_type": "code",
   "execution_count": null,
   "metadata": {
    "colab": {
     "base_uri": "https://localhost:8080/",
     "height": 1000
    },
    "executionInfo": {
     "elapsed": 1444,
     "status": "ok",
     "timestamp": 1606633387587,
     "user": {
      "displayName": "Arshak Mkhoyan",
      "photoUrl": "",
      "userId": "14297434837926834507"
     },
     "user_tz": -300
    },
    "id": "2mNRm4HvzxH9",
    "outputId": "a9763e3a-37ce-4366-87bf-e4e96db6f470"
   },
   "outputs": [
    {
     "data": {
      "text/html": [
       "<div>\n",
       "<style scoped>\n",
       "    .dataframe tbody tr th:only-of-type {\n",
       "        vertical-align: middle;\n",
       "    }\n",
       "\n",
       "    .dataframe tbody tr th {\n",
       "        vertical-align: top;\n",
       "    }\n",
       "\n",
       "    .dataframe thead th {\n",
       "        text-align: right;\n",
       "    }\n",
       "</style>\n",
       "<table border=\"1\" class=\"dataframe\">\n",
       "  <thead>\n",
       "    <tr style=\"text-align: right;\">\n",
       "      <th></th>\n",
       "      <th>ru_name</th>\n",
       "      <th>eng_name</th>\n",
       "      <th>answer</th>\n",
       "    </tr>\n",
       "  </thead>\n",
       "  <tbody>\n",
       "    <tr>\n",
       "      <th>160689</th>\n",
       "      <td>Общество с ограниченной ответственностью \"Альянс\"</td>\n",
       "      <td>Aliance Ltd</td>\n",
       "      <td>True</td>\n",
       "    </tr>\n",
       "    <tr>\n",
       "      <th>227262</th>\n",
       "      <td>Общество с ограниченной ответственностью \"Альянс\"</td>\n",
       "      <td>\"Alience\" LTD.Co\"</td>\n",
       "      <td>True</td>\n",
       "    </tr>\n",
       "    <tr>\n",
       "      <th>458684</th>\n",
       "      <td>Общество с ограниченной ответственностью \"Альянс\"</td>\n",
       "      <td>\"Alliance\" Limited Liability Company</td>\n",
       "      <td>True</td>\n",
       "    </tr>\n",
       "    <tr>\n",
       "      <th>490481</th>\n",
       "      <td>Общество с ограниченной ответственностью \"Альянс\"</td>\n",
       "      <td>\"Alliance\" Liability Limited Company</td>\n",
       "      <td>True</td>\n",
       "    </tr>\n",
       "    <tr>\n",
       "      <th>774383</th>\n",
       "      <td>Общество с ограниченной ответственностью \"Альянс\"</td>\n",
       "      <td>Company Limited \"Alliance\"</td>\n",
       "      <td>True</td>\n",
       "    </tr>\n",
       "    <tr>\n",
       "      <th>777472</th>\n",
       "      <td>Общество с ограниченной ответственностью \"Альянс\"</td>\n",
       "      <td>\"Alliance\" Limited liability company</td>\n",
       "      <td>True</td>\n",
       "    </tr>\n",
       "    <tr>\n",
       "      <th>828403</th>\n",
       "      <td>Общество с ограниченной ответственностью \"Альянс\"</td>\n",
       "      <td>\"Alliance\" Co Ltd</td>\n",
       "      <td>True</td>\n",
       "    </tr>\n",
       "    <tr>\n",
       "      <th>880522</th>\n",
       "      <td>Общество с ограниченной ответственностью \"Альянс\"</td>\n",
       "      <td>Alliance Ltd</td>\n",
       "      <td>True</td>\n",
       "    </tr>\n",
       "    <tr>\n",
       "      <th>1002238</th>\n",
       "      <td>Общество с ограниченной ответственностью \"Альянс\"</td>\n",
       "      <td>\"Alyans\" Ltd</td>\n",
       "      <td>True</td>\n",
       "    </tr>\n",
       "    <tr>\n",
       "      <th>1163294</th>\n",
       "      <td>Общество с ограниченной ответственностью \"Альянс\"</td>\n",
       "      <td>\"Alians\" Company Limited</td>\n",
       "      <td>True</td>\n",
       "    </tr>\n",
       "    <tr>\n",
       "      <th>1277514</th>\n",
       "      <td>Общество с ограниченной ответственностью \"Альянс\"</td>\n",
       "      <td>\"Alyans\" limited liability company</td>\n",
       "      <td>True</td>\n",
       "    </tr>\n",
       "    <tr>\n",
       "      <th>1423420</th>\n",
       "      <td>Общество с ограниченной ответственностью \"Альянс\"</td>\n",
       "      <td>ALLIANCE</td>\n",
       "      <td>True</td>\n",
       "    </tr>\n",
       "    <tr>\n",
       "      <th>1512627</th>\n",
       "      <td>Общество с ограниченной ответственностью \"Альянс\"</td>\n",
       "      <td>Alliance LLC</td>\n",
       "      <td>True</td>\n",
       "    </tr>\n",
       "    <tr>\n",
       "      <th>1660780</th>\n",
       "      <td>Общество с ограниченной ответственностью \"Альянс\"</td>\n",
       "      <td>\"Alyns\"</td>\n",
       "      <td>True</td>\n",
       "    </tr>\n",
       "    <tr>\n",
       "      <th>1719226</th>\n",
       "      <td>Общество с ограниченной ответственностью \"Альянс\"</td>\n",
       "      <td>Limited Liability Company Aeroexpress-cargo</td>\n",
       "      <td>True</td>\n",
       "    </tr>\n",
       "    <tr>\n",
       "      <th>1822885</th>\n",
       "      <td>Общество с ограниченной ответственностью \"Альянс\"</td>\n",
       "      <td>Limited Liability Company \"Alliance\"</td>\n",
       "      <td>True</td>\n",
       "    </tr>\n",
       "    <tr>\n",
       "      <th>2000469</th>\n",
       "      <td>Общество с ограниченной ответственностью \"Альянс\"</td>\n",
       "      <td>Alliance</td>\n",
       "      <td>True</td>\n",
       "    </tr>\n",
       "    <tr>\n",
       "      <th>2030963</th>\n",
       "      <td>Общество с ограниченной ответственностью \"Альянс\"</td>\n",
       "      <td>Limited liability company \"Alians\"</td>\n",
       "      <td>True</td>\n",
       "    </tr>\n",
       "    <tr>\n",
       "      <th>2039294</th>\n",
       "      <td>Общество с ограниченной ответственностью \"Альянс\"</td>\n",
       "      <td>\"Alianz\"</td>\n",
       "      <td>True</td>\n",
       "    </tr>\n",
       "    <tr>\n",
       "      <th>2297662</th>\n",
       "      <td>Общество с ограниченной ответственностью \"Альянс\"</td>\n",
       "      <td>\"The jeweller\" Ltd</td>\n",
       "      <td>True</td>\n",
       "    </tr>\n",
       "    <tr>\n",
       "      <th>2326131</th>\n",
       "      <td>Общество с ограниченной ответственностью \"Альянс\"</td>\n",
       "      <td>\"Aliance\" Company Limited</td>\n",
       "      <td>True</td>\n",
       "    </tr>\n",
       "    <tr>\n",
       "      <th>2422439</th>\n",
       "      <td>Общество с ограниченной ответственностью \"Альянс\"</td>\n",
       "      <td>Alliance, Ltd</td>\n",
       "      <td>True</td>\n",
       "    </tr>\n",
       "    <tr>\n",
       "      <th>2432836</th>\n",
       "      <td>Общество с ограниченной ответственностью \"Альянс\"</td>\n",
       "      <td>\"Alyans\" Company Limited</td>\n",
       "      <td>True</td>\n",
       "    </tr>\n",
       "    <tr>\n",
       "      <th>2601792</th>\n",
       "      <td>Общество с ограниченной ответственностью \"Альянс\"</td>\n",
       "      <td>\"Alliance\" Company Limited</td>\n",
       "      <td>True</td>\n",
       "    </tr>\n",
       "    <tr>\n",
       "      <th>2732486</th>\n",
       "      <td>Общество с ограниченной ответственностью \"Альянс\"</td>\n",
       "      <td>Alliance ltd</td>\n",
       "      <td>True</td>\n",
       "    </tr>\n",
       "    <tr>\n",
       "      <th>2750438</th>\n",
       "      <td>Общество с ограниченной ответственностью \"Альянс\"</td>\n",
       "      <td>\"Alyans\" LLC</td>\n",
       "      <td>True</td>\n",
       "    </tr>\n",
       "    <tr>\n",
       "      <th>2964603</th>\n",
       "      <td>Общество с ограниченной ответственностью \"Альянс\"</td>\n",
       "      <td>Limited liability company \"Alliance\"</td>\n",
       "      <td>True</td>\n",
       "    </tr>\n",
       "    <tr>\n",
       "      <th>2967275</th>\n",
       "      <td>Общество с ограниченной ответственностью \"Альянс\"</td>\n",
       "      <td>\"ALJANS,Inc.\"</td>\n",
       "      <td>True</td>\n",
       "    </tr>\n",
       "    <tr>\n",
       "      <th>3008692</th>\n",
       "      <td>Общество с ограниченной ответственностью \"Альянс\"</td>\n",
       "      <td>\"Alliance\" Ltd</td>\n",
       "      <td>True</td>\n",
       "    </tr>\n",
       "    <tr>\n",
       "      <th>3208497</th>\n",
       "      <td>Общество с ограниченной ответственностью \"Альянс\"</td>\n",
       "      <td>Limited Liability Company \"ALLIANCE\"</td>\n",
       "      <td>True</td>\n",
       "    </tr>\n",
       "    <tr>\n",
       "      <th>3389898</th>\n",
       "      <td>Общество с ограниченной ответственностью \"Альянс\"</td>\n",
       "      <td>\"lans\"</td>\n",
       "      <td>True</td>\n",
       "    </tr>\n",
       "    <tr>\n",
       "      <th>3702396</th>\n",
       "      <td>Общество с ограниченной ответственностью \"Альянс\"</td>\n",
       "      <td>LTD \"Alliance\"</td>\n",
       "      <td>True</td>\n",
       "    </tr>\n",
       "  </tbody>\n",
       "</table>\n",
       "</div>"
      ],
      "text/plain": [
       "                                                   ru_name  ... answer\n",
       "160689   Общество с ограниченной ответственностью \"Альянс\"  ...   True\n",
       "227262   Общество с ограниченной ответственностью \"Альянс\"  ...   True\n",
       "458684   Общество с ограниченной ответственностью \"Альянс\"  ...   True\n",
       "490481   Общество с ограниченной ответственностью \"Альянс\"  ...   True\n",
       "774383   Общество с ограниченной ответственностью \"Альянс\"  ...   True\n",
       "777472   Общество с ограниченной ответственностью \"Альянс\"  ...   True\n",
       "828403   Общество с ограниченной ответственностью \"Альянс\"  ...   True\n",
       "880522   Общество с ограниченной ответственностью \"Альянс\"  ...   True\n",
       "1002238  Общество с ограниченной ответственностью \"Альянс\"  ...   True\n",
       "1163294  Общество с ограниченной ответственностью \"Альянс\"  ...   True\n",
       "1277514  Общество с ограниченной ответственностью \"Альянс\"  ...   True\n",
       "1423420  Общество с ограниченной ответственностью \"Альянс\"  ...   True\n",
       "1512627  Общество с ограниченной ответственностью \"Альянс\"  ...   True\n",
       "1660780  Общество с ограниченной ответственностью \"Альянс\"  ...   True\n",
       "1719226  Общество с ограниченной ответственностью \"Альянс\"  ...   True\n",
       "1822885  Общество с ограниченной ответственностью \"Альянс\"  ...   True\n",
       "2000469  Общество с ограниченной ответственностью \"Альянс\"  ...   True\n",
       "2030963  Общество с ограниченной ответственностью \"Альянс\"  ...   True\n",
       "2039294  Общество с ограниченной ответственностью \"Альянс\"  ...   True\n",
       "2297662  Общество с ограниченной ответственностью \"Альянс\"  ...   True\n",
       "2326131  Общество с ограниченной ответственностью \"Альянс\"  ...   True\n",
       "2422439  Общество с ограниченной ответственностью \"Альянс\"  ...   True\n",
       "2432836  Общество с ограниченной ответственностью \"Альянс\"  ...   True\n",
       "2601792  Общество с ограниченной ответственностью \"Альянс\"  ...   True\n",
       "2732486  Общество с ограниченной ответственностью \"Альянс\"  ...   True\n",
       "2750438  Общество с ограниченной ответственностью \"Альянс\"  ...   True\n",
       "2964603  Общество с ограниченной ответственностью \"Альянс\"  ...   True\n",
       "2967275  Общество с ограниченной ответственностью \"Альянс\"  ...   True\n",
       "3008692  Общество с ограниченной ответственностью \"Альянс\"  ...   True\n",
       "3208497  Общество с ограниченной ответственностью \"Альянс\"  ...   True\n",
       "3389898  Общество с ограниченной ответственностью \"Альянс\"  ...   True\n",
       "3702396  Общество с ограниченной ответственностью \"Альянс\"  ...   True\n",
       "\n",
       "[32 rows x 3 columns]"
      ]
     },
     "execution_count": 21,
     "metadata": {
      "tags": []
     },
     "output_type": "execute_result"
    }
   ],
   "source": [
    "train[train['answer'] & train['ru_name'].eq('Общество с ограниченной ответственностью \"Альянс\"')]"
   ]
  },
  {
   "cell_type": "code",
   "execution_count": null,
   "metadata": {
    "colab": {
     "base_uri": "https://localhost:8080/",
     "height": 419
    },
    "executionInfo": {
     "elapsed": 1319,
     "status": "ok",
     "timestamp": 1606633522962,
     "user": {
      "displayName": "Arshak Mkhoyan",
      "photoUrl": "",
      "userId": "14297434837926834507"
     },
     "user_tz": -300
    },
    "id": "Ubxg9Gfqz_Bb",
    "outputId": "d9126106-42b2-40f0-fb24-d5156769b7cb"
   },
   "outputs": [
    {
     "data": {
      "text/html": [
       "<div>\n",
       "<style scoped>\n",
       "    .dataframe tbody tr th:only-of-type {\n",
       "        vertical-align: middle;\n",
       "    }\n",
       "\n",
       "    .dataframe tbody tr th {\n",
       "        vertical-align: top;\n",
       "    }\n",
       "\n",
       "    .dataframe thead th {\n",
       "        text-align: right;\n",
       "    }\n",
       "</style>\n",
       "<table border=\"1\" class=\"dataframe\">\n",
       "  <thead>\n",
       "    <tr style=\"text-align: right;\">\n",
       "      <th></th>\n",
       "      <th>ru_name</th>\n",
       "      <th>eng_name</th>\n",
       "      <th>answer</th>\n",
       "    </tr>\n",
       "  </thead>\n",
       "  <tbody>\n",
       "    <tr>\n",
       "      <th>5050</th>\n",
       "      <td>Общество с ограниченной ответственностью \"Альянс\"</td>\n",
       "      <td>NPO Yantar</td>\n",
       "      <td>False</td>\n",
       "    </tr>\n",
       "    <tr>\n",
       "      <th>13012</th>\n",
       "      <td>Общество с ограниченной ответственностью \"Альянс\"</td>\n",
       "      <td>\"RODEOS\" Company Limited</td>\n",
       "      <td>False</td>\n",
       "    </tr>\n",
       "    <tr>\n",
       "      <th>20516</th>\n",
       "      <td>Общество с ограниченной ответственностью \"Альянс\"</td>\n",
       "      <td>\"Company \"GREENGA\"</td>\n",
       "      <td>False</td>\n",
       "    </tr>\n",
       "    <tr>\n",
       "      <th>28707</th>\n",
       "      <td>Общество с ограниченной ответственностью \"Альянс\"</td>\n",
       "      <td>\"Ankor\" Ltd</td>\n",
       "      <td>False</td>\n",
       "    </tr>\n",
       "    <tr>\n",
       "      <th>37116</th>\n",
       "      <td>Общество с ограниченной ответственностью \"Альянс\"</td>\n",
       "      <td>Kuban Invest Group</td>\n",
       "      <td>False</td>\n",
       "    </tr>\n",
       "    <tr>\n",
       "      <th>...</th>\n",
       "      <td>...</td>\n",
       "      <td>...</td>\n",
       "      <td>...</td>\n",
       "    </tr>\n",
       "    <tr>\n",
       "      <th>3972412</th>\n",
       "      <td>Общество с ограниченной ответственностью \"Альянс\"</td>\n",
       "      <td>Limited Liability Company \"RAHAMIM\"</td>\n",
       "      <td>False</td>\n",
       "    </tr>\n",
       "    <tr>\n",
       "      <th>3973594</th>\n",
       "      <td>Общество с ограниченной ответственностью \"Альянс\"</td>\n",
       "      <td>\"VENTO-2M\"</td>\n",
       "      <td>False</td>\n",
       "    </tr>\n",
       "    <tr>\n",
       "      <th>3979116</th>\n",
       "      <td>Общество с ограниченной ответственностью \"Альянс\"</td>\n",
       "      <td>\"NATIONAL BULDING COMPANY\" Ltd</td>\n",
       "      <td>False</td>\n",
       "    </tr>\n",
       "    <tr>\n",
       "      <th>3980554</th>\n",
       "      <td>Общество с ограниченной ответственностью \"Альянс\"</td>\n",
       "      <td>Vostok-Service</td>\n",
       "      <td>False</td>\n",
       "    </tr>\n",
       "    <tr>\n",
       "      <th>3982310</th>\n",
       "      <td>Общество с ограниченной ответственностью \"Альянс\"</td>\n",
       "      <td>Limited Liability Company \"Baikal travel company\"</td>\n",
       "      <td>False</td>\n",
       "    </tr>\n",
       "  </tbody>\n",
       "</table>\n",
       "<p>667 rows × 3 columns</p>\n",
       "</div>"
      ],
      "text/plain": [
       "                                                   ru_name  ... answer\n",
       "5050     Общество с ограниченной ответственностью \"Альянс\"  ...  False\n",
       "13012    Общество с ограниченной ответственностью \"Альянс\"  ...  False\n",
       "20516    Общество с ограниченной ответственностью \"Альянс\"  ...  False\n",
       "28707    Общество с ограниченной ответственностью \"Альянс\"  ...  False\n",
       "37116    Общество с ограниченной ответственностью \"Альянс\"  ...  False\n",
       "...                                                    ...  ...    ...\n",
       "3972412  Общество с ограниченной ответственностью \"Альянс\"  ...  False\n",
       "3973594  Общество с ограниченной ответственностью \"Альянс\"  ...  False\n",
       "3979116  Общество с ограниченной ответственностью \"Альянс\"  ...  False\n",
       "3980554  Общество с ограниченной ответственностью \"Альянс\"  ...  False\n",
       "3982310  Общество с ограниченной ответственностью \"Альянс\"  ...  False\n",
       "\n",
       "[667 rows x 3 columns]"
      ]
     },
     "execution_count": 23,
     "metadata": {
      "tags": []
     },
     "output_type": "execute_result"
    }
   ],
   "source": [
    "train[~train['answer'] & train['ru_name'].eq('Общество с ограниченной ответственностью \"Альянс\"')]"
   ]
  },
  {
   "cell_type": "code",
   "execution_count": null,
   "metadata": {
    "id": "AWZ0Yfa20UVV"
   },
   "outputs": [],
   "source": [
    "ru_names_true = train[train['answer']]['ru_name']\n",
    "eng_names_true = train[train['answer']]['eng_name']"
   ]
  },
  {
   "cell_type": "code",
   "execution_count": null,
   "metadata": {
    "colab": {
     "base_uri": "https://localhost:8080/"
    },
    "executionInfo": {
     "elapsed": 912,
     "status": "ok",
     "timestamp": 1606902325112,
     "user": {
      "displayName": "Arshak Mkhoyan",
      "photoUrl": "",
      "userId": "14297434837926834507"
     },
     "user_tz": -300
    },
    "id": "6tWOf5NH1NNX",
    "outputId": "5e94c96c-d369-4cc6-b7ab-2fd1711d8650"
   },
   "outputs": [
    {
     "name": "stdout",
     "output_type": "stream",
     "text": [
      "Proportion of True answers: 0.04591179510559718\n"
     ]
    }
   ],
   "source": [
    "print(f\"Proportion of True answers: {train['answer'].mean()}\")"
   ]
  },
  {
   "cell_type": "code",
   "execution_count": null,
   "metadata": {
    "colab": {
     "base_uri": "https://localhost:8080/"
    },
    "executionInfo": {
     "elapsed": 2010,
     "status": "ok",
     "timestamp": 1606902434421,
     "user": {
      "displayName": "Arshak Mkhoyan",
      "photoUrl": "",
      "userId": "14297434837926834507"
     },
     "user_tz": -300
    },
    "id": "2AgKIPm-0UTD",
    "outputId": "ccddf2f7-c999-4257-879b-a20d6f87741b"
   },
   "outputs": [
    {
     "name": "stdout",
     "output_type": "stream",
     "text": [
      "Proportion of observations that have 'ru_name' that appeares in True: 0.27693291052452007\n"
     ]
    }
   ],
   "source": [
    "print(f\"Proportion of observations that have 'ru_name' that appeares in True: {train['ru_name'].isin(ru_names_true).mean()}\")"
   ]
  },
  {
   "cell_type": "code",
   "execution_count": null,
   "metadata": {
    "colab": {
     "base_uri": "https://localhost:8080/"
    },
    "executionInfo": {
     "elapsed": 2583,
     "status": "ok",
     "timestamp": 1606902435006,
     "user": {
      "displayName": "Arshak Mkhoyan",
      "photoUrl": "",
      "userId": "14297434837926834507"
     },
     "user_tz": -300
    },
    "id": "SVb2myyG0wiK",
    "outputId": "6ca03f97-48c1-4b4a-a1e3-1b417ad00384"
   },
   "outputs": [
    {
     "name": "stdout",
     "output_type": "stream",
     "text": [
      "Proportion of observations that have 'eng_name' that appeares in True: 0.36466858455368706\n"
     ]
    }
   ],
   "source": [
    "print(f\"Proportion of observations that have 'eng_name' that appeares in True: {train['eng_name'].isin(eng_names_true).mean()}\")"
   ]
  },
  {
   "cell_type": "code",
   "execution_count": null,
   "metadata": {
    "colab": {
     "base_uri": "https://localhost:8080/"
    },
    "executionInfo": {
     "elapsed": 2734,
     "status": "ok",
     "timestamp": 1606902561398,
     "user": {
      "displayName": "Arshak Mkhoyan",
      "photoUrl": "",
      "userId": "14297434837926834507"
     },
     "user_tz": -300
    },
    "id": "00QrGRAC1Txm",
    "outputId": "56b79ed1-2abf-470c-f33e-dcbb92ae0a7d"
   },
   "outputs": [
    {
     "name": "stdout",
     "output_type": "stream",
     "text": [
      "Proportion of observations that have 'eng_name' or 'ru_name' that appeares in True:0.5184237408939489\n"
     ]
    }
   ],
   "source": [
    "at_least_one_presented = train['ru_name'].isin(ru_names_true) | train['eng_name'].isin(eng_names_true)\n",
    "print(f\"Proportion of observations that have 'eng_name' or 'ru_name' that appeares in True:{at_least_one_presented.mean()}\")"
   ]
  },
  {
   "cell_type": "code",
   "execution_count": null,
   "metadata": {
    "colab": {
     "base_uri": "https://localhost:8080/",
     "height": 359
    },
    "executionInfo": {
     "elapsed": 1170,
     "status": "ok",
     "timestamp": 1606902628469,
     "user": {
      "displayName": "Arshak Mkhoyan",
      "photoUrl": "",
      "userId": "14297434837926834507"
     },
     "user_tz": -300
    },
    "id": "N1fgKY022n8I",
    "outputId": "44311291-9516-45d6-aa74-4100b60203a7"
   },
   "outputs": [
    {
     "data": {
      "text/html": [
       "<div>\n",
       "<style scoped>\n",
       "    .dataframe tbody tr th:only-of-type {\n",
       "        vertical-align: middle;\n",
       "    }\n",
       "\n",
       "    .dataframe tbody tr th {\n",
       "        vertical-align: top;\n",
       "    }\n",
       "\n",
       "    .dataframe thead th {\n",
       "        text-align: right;\n",
       "    }\n",
       "</style>\n",
       "<table border=\"1\" class=\"dataframe\">\n",
       "  <thead>\n",
       "    <tr style=\"text-align: right;\">\n",
       "      <th></th>\n",
       "      <th>ru_name</th>\n",
       "      <th>eng_name</th>\n",
       "      <th>answer</th>\n",
       "    </tr>\n",
       "  </thead>\n",
       "  <tbody>\n",
       "    <tr>\n",
       "      <th>4</th>\n",
       "      <td>Общество с ограниченной ответственностью \"Концепт-Трейд\"</td>\n",
       "      <td>\"Ad.Arty\"</td>\n",
       "      <td>False</td>\n",
       "    </tr>\n",
       "    <tr>\n",
       "      <th>5</th>\n",
       "      <td>Общество с ограниченной ответственностью \"ЭКСТРА - ФИШ\"</td>\n",
       "      <td>Red Storm Leningrad</td>\n",
       "      <td>False</td>\n",
       "    </tr>\n",
       "    <tr>\n",
       "      <th>9</th>\n",
       "      <td>Общество с ограниченной ответственностью \"Хендэ КомТранс СПб\"</td>\n",
       "      <td>OOO Privat Trade</td>\n",
       "      <td>False</td>\n",
       "    </tr>\n",
       "    <tr>\n",
       "      <th>10</th>\n",
       "      <td>Открытое акционерное общество \"ТЕХНОФОРМ\"</td>\n",
       "      <td>Organico Limited Liability Company</td>\n",
       "      <td>False</td>\n",
       "    </tr>\n",
       "    <tr>\n",
       "      <th>13</th>\n",
       "      <td>Общественная организация \"Международная академия наук о природе и обществе\"</td>\n",
       "      <td>Limited liability company \"Bester Global RUS\"</td>\n",
       "      <td>False</td>\n",
       "    </tr>\n",
       "    <tr>\n",
       "      <th>14</th>\n",
       "      <td>ООО \"Виньето\"</td>\n",
       "      <td>\"BombAMEYa\" Company Limited</td>\n",
       "      <td>False</td>\n",
       "    </tr>\n",
       "    <tr>\n",
       "      <th>15</th>\n",
       "      <td>ООО \"Хорошая практика\"</td>\n",
       "      <td>\"Rodina\" Plant\", Llc</td>\n",
       "      <td>False</td>\n",
       "    </tr>\n",
       "    <tr>\n",
       "      <th>16</th>\n",
       "      <td>ЗАО \"Р-Д-Р\"</td>\n",
       "      <td>Veterinary Company \"VETAL\" Ltd</td>\n",
       "      <td>False</td>\n",
       "    </tr>\n",
       "    <tr>\n",
       "      <th>17</th>\n",
       "      <td>Открытое акционерное общество \"73 Управление начальника работ\"</td>\n",
       "      <td>\"Greenlandia\" Co. Ltd</td>\n",
       "      <td>False</td>\n",
       "    </tr>\n",
       "    <tr>\n",
       "      <th>18</th>\n",
       "      <td>НОУ ДПО \"Отличный Английский\"</td>\n",
       "      <td>\"PetroStroyHolding\" Public Limited Company</td>\n",
       "      <td>False</td>\n",
       "    </tr>\n",
       "  </tbody>\n",
       "</table>\n",
       "</div>"
      ],
      "text/plain": [
       "                                                                        ru_name  ... answer\n",
       "4                      Общество с ограниченной ответственностью \"Концепт-Трейд\"  ...  False\n",
       "5                       Общество с ограниченной ответственностью \"ЭКСТРА - ФИШ\"  ...  False\n",
       "9                 Общество с ограниченной ответственностью \"Хендэ КомТранс СПб\"  ...  False\n",
       "10                                    Открытое акционерное общество \"ТЕХНОФОРМ\"  ...  False\n",
       "13  Общественная организация \"Международная академия наук о природе и обществе\"  ...  False\n",
       "14                                                                ООО \"Виньето\"  ...  False\n",
       "15                                                       ООО \"Хорошая практика\"  ...  False\n",
       "16                                                                  ЗАО \"Р-Д-Р\"  ...  False\n",
       "17               Открытое акционерное общество \"73 Управление начальника работ\"  ...  False\n",
       "18                                                НОУ ДПО \"Отличный Английский\"  ...  False\n",
       "\n",
       "[10 rows x 3 columns]"
      ]
     },
     "execution_count": 30,
     "metadata": {
      "tags": []
     },
     "output_type": "execute_result"
    }
   ],
   "source": [
    "train[~at_least_one_presented].head(10)"
   ]
  },
  {
   "cell_type": "code",
   "execution_count": null,
   "metadata": {
    "colab": {
     "base_uri": "https://localhost:8080/"
    },
    "executionInfo": {
     "elapsed": 1852,
     "status": "ok",
     "timestamp": 1606902118066,
     "user": {
      "displayName": "Arshak Mkhoyan",
      "photoUrl": "",
      "userId": "14297434837926834507"
     },
     "user_tz": -300
    },
    "id": "H8DdqFk400YA",
    "outputId": "93af6a19-84c9-4763-9111-9e2bb3707672"
   },
   "outputs": [
    {
     "data": {
      "text/plain": [
       "0.10456582588057652"
      ]
     },
     "execution_count": 15,
     "metadata": {
      "tags": []
     },
     "output_type": "execute_result"
    }
   ],
   "source": [
    "test['ru_name'].isin(ru_names_true).mean()"
   ]
  },
  {
   "cell_type": "code",
   "execution_count": null,
   "metadata": {
    "colab": {
     "base_uri": "https://localhost:8080/"
    },
    "executionInfo": {
     "elapsed": 1961,
     "status": "ok",
     "timestamp": 1606902118445,
     "user": {
      "displayName": "Arshak Mkhoyan",
      "photoUrl": "",
      "userId": "14297434837926834507"
     },
     "user_tz": -300
    },
    "id": "QmXU1ry700ar",
    "outputId": "c9d4b6fc-705c-468e-8572-c030bda076bb"
   },
   "outputs": [
    {
     "data": {
      "text/plain": [
       "0.032523402392646165"
      ]
     },
     "execution_count": 16,
     "metadata": {
      "tags": []
     },
     "output_type": "execute_result"
    }
   ],
   "source": [
    "test['eng_name'].isin(eng_names_true).mean()"
   ]
  },
  {
   "cell_type": "code",
   "execution_count": null,
   "metadata": {
    "colab": {
     "base_uri": "https://localhost:8080/"
    },
    "executionInfo": {
     "elapsed": 2888,
     "status": "ok",
     "timestamp": 1606902688500,
     "user": {
      "displayName": "Arshak Mkhoyan",
      "photoUrl": "",
      "userId": "14297434837926834507"
     },
     "user_tz": -300
    },
    "id": "sZrFS2KO3O46",
    "outputId": "477aa826-521f-4655-e082-2c11e8c107ca"
   },
   "outputs": [
    {
     "data": {
      "text/plain": [
       "0.12589466316429265"
      ]
     },
     "execution_count": 31,
     "metadata": {
      "tags": []
     },
     "output_type": "execute_result"
    }
   ],
   "source": [
    "train['ru_name'].isin(test['ru_name']).mean()"
   ]
  },
  {
   "cell_type": "code",
   "execution_count": null,
   "metadata": {
    "colab": {
     "base_uri": "https://localhost:8080/"
    },
    "executionInfo": {
     "elapsed": 1332,
     "status": "ok",
     "timestamp": 1606902708522,
     "user": {
      "displayName": "Arshak Mkhoyan",
      "photoUrl": "",
      "userId": "14297434837926834507"
     },
     "user_tz": -300
    },
    "id": "RegW6ACS3Vcw",
    "outputId": "c39727fa-d90e-4b62-ef76-ef11446ee73c"
   },
   "outputs": [
    {
     "data": {
      "text/plain": [
       "0.02926112477822496"
      ]
     },
     "execution_count": 32,
     "metadata": {
      "tags": []
     },
     "output_type": "execute_result"
    }
   ],
   "source": [
    "train['eng_name'].isin(test['eng_name']).mean()"
   ]
  },
  {
   "cell_type": "markdown",
   "metadata": {
    "id": "OZrik__30wrB"
   },
   "source": [
    "## Experiments"
   ]
  },
  {
   "cell_type": "markdown",
   "metadata": {
    "id": "WBzQ1JLc0zZ5"
   },
   "source": [
    "1. translate eng2rus and rus2eng, get embeddings\n",
    "2. solve ltd - Limited Liability Company issue (ООО и Общество с ограниченной ответственностью)"
   ]
  },
  {
   "cell_type": "markdown",
   "metadata": {
    "id": "0tfoTNg46x2u"
   },
   "source": [
    "### Split train data"
   ]
  },
  {
   "cell_type": "code",
   "execution_count": null,
   "metadata": {
    "id": "CSJ7t9os0ylR"
   },
   "outputs": [],
   "source": [
    "from sklearn.model_selection import train_test_split"
   ]
  },
  {
   "cell_type": "code",
   "execution_count": null,
   "metadata": {
    "id": "NOz2vcrj62_i"
   },
   "outputs": [],
   "source": [
    "train_data, valid_data = train_test_split(train, test_size=0.2, stratify=train['answer'], random_state=42, shuffle=True)"
   ]
  },
  {
   "cell_type": "code",
   "execution_count": null,
   "metadata": {
    "colab": {
     "base_uri": "https://localhost:8080/"
    },
    "executionInfo": {
     "elapsed": 2539,
     "status": "ok",
     "timestamp": 1606900645139,
     "user": {
      "displayName": "Arshak Mkhoyan",
      "photoUrl": "",
      "userId": "14297434837926834507"
     },
     "user_tz": -300
    },
    "id": "UxkIzL0H7OFX",
    "outputId": "9ed9eb19-02e9-4a9a-fddf-1141733b274b"
   },
   "outputs": [
    {
     "data": {
      "text/plain": [
       "False    0.954088\n",
       "True     0.045912\n",
       "Name: answer, dtype: float64"
      ]
     },
     "execution_count": 8,
     "metadata": {
      "tags": []
     },
     "output_type": "execute_result"
    }
   ],
   "source": [
    "valid_data['answer'].value_counts(normalize=True)"
   ]
  },
  {
   "cell_type": "code",
   "execution_count": null,
   "metadata": {
    "colab": {
     "base_uri": "https://localhost:8080/"
    },
    "executionInfo": {
     "elapsed": 787,
     "status": "ok",
     "timestamp": 1606797246733,
     "user": {
      "displayName": "Arshak Mkhoyan",
      "photoUrl": "",
      "userId": "14297434837926834507"
     },
     "user_tz": -300
    },
    "id": "bboJ5NB27UNP",
    "outputId": "5418f2ea-58fb-4de8-e194-3d6aba044c87"
   },
   "outputs": [
    {
     "data": {
      "text/plain": [
       "False    0.954088\n",
       "True     0.045912\n",
       "Name: answer, dtype: float64"
      ]
     },
     "execution_count": 10,
     "metadata": {
      "tags": []
     },
     "output_type": "execute_result"
    }
   ],
   "source": [
    "train_data['answer'].value_counts(normalize=True)"
   ]
  },
  {
   "cell_type": "markdown",
   "metadata": {
    "id": "LLSFmXlXDcV6"
   },
   "source": [
    "### Use google translate cloud API"
   ]
  },
  {
   "cell_type": "code",
   "execution_count": null,
   "metadata": {
    "id": "kvvDYL6VEWKh"
   },
   "outputs": [],
   "source": [
    "os.environ[\"GOOGLE_APPLICATION_CREDENTIALS\"] = \"SKBKontur-2db509914802.json\""
   ]
  },
  {
   "cell_type": "code",
   "execution_count": null,
   "metadata": {
    "colab": {
     "base_uri": "https://localhost:8080/"
    },
    "executionInfo": {
     "elapsed": 1891,
     "status": "ok",
     "timestamp": 1606725690448,
     "user": {
      "displayName": "Arshak Mkhoyan",
      "photoUrl": "",
      "userId": "14297434837926834507"
     },
     "user_tz": -300
    },
    "id": "pq3v-1uKDbgF",
    "outputId": "62616d33-d166-4532-c0e8-0b02aae61a1f"
   },
   "outputs": [
    {
     "name": "stdout",
     "output_type": "stream",
     "text": [
      "[{'translatedText': 'Limited Liability Company &quot;Alliance&quot;', 'input': 'Общество с ограниченной ответственностью \"Альянс\"'}, {'translatedText': 'LLC &quot;Alliance&quot;', 'input': 'ООО \"Альянс\"'}]\n"
     ]
    }
   ],
   "source": [
    "\"\"\"Translates text into the target language.\n",
    "\n",
    "Target must be an ISO 639-1 language code.\n",
    "See https://g.co/cloud/translate/v2/translate-reference#supported_languages\n",
    "\"\"\"\n",
    "from google.cloud import translate_v2 as translate\n",
    "\n",
    "text = ['Общество с ограниченной ответственностью \"Альянс\"', 'ООО \"Альянс\"']\n",
    "target = 'en'\n",
    "source = 'rus'\n",
    "translate_client = translate.Client()\n",
    "\n",
    "# if isinstance(text, six.binary_type):\n",
    "#     text = text.decode(\"utf-8\")\n",
    "\n",
    "# Text can also be a sequence of strings, in which case this method\n",
    "# will return a sequence of results for each text.\n",
    "result = translate_client.translate(text, target_language=target, source_language=source)\n",
    "\n",
    "print(result)\n",
    "# print(u\"Detected source language: {}\".format(result[\"detectedSourceLanguage\"]))"
   ]
  },
  {
   "cell_type": "code",
   "execution_count": null,
   "metadata": {
    "colab": {
     "base_uri": "https://localhost:8080/",
     "height": 35
    },
    "executionInfo": {
     "elapsed": 1372,
     "status": "ok",
     "timestamp": 1606725693906,
     "user": {
      "displayName": "Arshak Mkhoyan",
      "photoUrl": "",
      "userId": "14297434837926834507"
     },
     "user_tz": -300
    },
    "id": "CMjq4CSQDnME",
    "outputId": "37e66e22-ae4f-49fb-bde5-baca4813388c"
   },
   "outputs": [
    {
     "data": {
      "application/vnd.google.colaboratory.intrinsic+json": {
       "type": "string"
      },
      "text/plain": [
       "'Limited Liability Company \"Alliance\"'"
      ]
     },
     "execution_count": 30,
     "metadata": {
      "tags": []
     },
     "output_type": "execute_result"
    }
   ],
   "source": [
    "from html import unescape\n",
    "unescape(result[0][\"translatedText\"])"
   ]
  },
  {
   "cell_type": "markdown",
   "metadata": {
    "id": "P2QmFSktUIIn"
   },
   "source": [
    "### APIs"
   ]
  },
  {
   "cell_type": "markdown",
   "metadata": {
    "id": "Mq6NWKBelNJL"
   },
   "source": [
    "https://github.com/UKPLab/sentence-transformers\n",
    "\n",
    "https://www.sbert.net/docs/pretrained_models.html"
   ]
  },
  {
   "cell_type": "code",
   "execution_count": null,
   "metadata": {
    "colab": {
     "base_uri": "https://localhost:8080/"
    },
    "executionInfo": {
     "elapsed": 3563,
     "status": "ok",
     "timestamp": 1606903230283,
     "user": {
      "displayName": "Arshak Mkhoyan",
      "photoUrl": "",
      "userId": "14297434837926834507"
     },
     "user_tz": -300
    },
    "id": "sHD44JDrGtk1",
    "outputId": "ba63cdad-f01a-452e-fdb5-f15f7176e167"
   },
   "outputs": [
    {
     "name": "stdout",
     "output_type": "stream",
     "text": [
      "Requirement already up-to-date: sentence-transformers in /usr/local/lib/python3.6/dist-packages (0.3.9)\n",
      "Requirement already satisfied, skipping upgrade: transformers<3.6.0,>=3.1.0 in /usr/local/lib/python3.6/dist-packages (from sentence-transformers) (3.5.1)\n",
      "Requirement already satisfied, skipping upgrade: scipy in /usr/local/lib/python3.6/dist-packages (from sentence-transformers) (1.4.1)\n",
      "Requirement already satisfied, skipping upgrade: scikit-learn in /usr/local/lib/python3.6/dist-packages (from sentence-transformers) (0.22.2.post1)\n",
      "Requirement already satisfied, skipping upgrade: nltk in /usr/local/lib/python3.6/dist-packages (from sentence-transformers) (3.2.5)\n",
      "Requirement already satisfied, skipping upgrade: tqdm in /usr/local/lib/python3.6/dist-packages (from sentence-transformers) (4.41.1)\n",
      "Requirement already satisfied, skipping upgrade: numpy in /usr/local/lib/python3.6/dist-packages (from sentence-transformers) (1.18.5)\n",
      "Requirement already satisfied, skipping upgrade: torch>=1.6.0 in /usr/local/lib/python3.6/dist-packages (from sentence-transformers) (1.7.0+cu101)\n",
      "Requirement already satisfied, skipping upgrade: filelock in /usr/local/lib/python3.6/dist-packages (from transformers<3.6.0,>=3.1.0->sentence-transformers) (3.0.12)\n",
      "Requirement already satisfied, skipping upgrade: requests in /usr/local/lib/python3.6/dist-packages (from transformers<3.6.0,>=3.1.0->sentence-transformers) (2.23.0)\n",
      "Requirement already satisfied, skipping upgrade: sentencepiece==0.1.91 in /usr/local/lib/python3.6/dist-packages (from transformers<3.6.0,>=3.1.0->sentence-transformers) (0.1.91)\n",
      "Requirement already satisfied, skipping upgrade: protobuf in /usr/local/lib/python3.6/dist-packages (from transformers<3.6.0,>=3.1.0->sentence-transformers) (3.12.4)\n",
      "Requirement already satisfied, skipping upgrade: regex!=2019.12.17 in /usr/local/lib/python3.6/dist-packages (from transformers<3.6.0,>=3.1.0->sentence-transformers) (2019.12.20)\n",
      "Requirement already satisfied, skipping upgrade: packaging in /usr/local/lib/python3.6/dist-packages (from transformers<3.6.0,>=3.1.0->sentence-transformers) (20.4)\n",
      "Requirement already satisfied, skipping upgrade: tokenizers==0.9.3 in /usr/local/lib/python3.6/dist-packages (from transformers<3.6.0,>=3.1.0->sentence-transformers) (0.9.3)\n",
      "Requirement already satisfied, skipping upgrade: dataclasses; python_version < \"3.7\" in /usr/local/lib/python3.6/dist-packages (from transformers<3.6.0,>=3.1.0->sentence-transformers) (0.8)\n",
      "Requirement already satisfied, skipping upgrade: sacremoses in /usr/local/lib/python3.6/dist-packages (from transformers<3.6.0,>=3.1.0->sentence-transformers) (0.0.43)\n",
      "Requirement already satisfied, skipping upgrade: joblib>=0.11 in /usr/local/lib/python3.6/dist-packages (from scikit-learn->sentence-transformers) (0.17.0)\n",
      "Requirement already satisfied, skipping upgrade: six in /usr/local/lib/python3.6/dist-packages (from nltk->sentence-transformers) (1.15.0)\n",
      "Requirement already satisfied, skipping upgrade: future in /usr/local/lib/python3.6/dist-packages (from torch>=1.6.0->sentence-transformers) (0.16.0)\n",
      "Requirement already satisfied, skipping upgrade: typing-extensions in /usr/local/lib/python3.6/dist-packages (from torch>=1.6.0->sentence-transformers) (3.7.4.3)\n",
      "Requirement already satisfied, skipping upgrade: certifi>=2017.4.17 in /usr/local/lib/python3.6/dist-packages (from requests->transformers<3.6.0,>=3.1.0->sentence-transformers) (2020.11.8)\n",
      "Requirement already satisfied, skipping upgrade: chardet<4,>=3.0.2 in /usr/local/lib/python3.6/dist-packages (from requests->transformers<3.6.0,>=3.1.0->sentence-transformers) (3.0.4)\n",
      "Requirement already satisfied, skipping upgrade: urllib3!=1.25.0,!=1.25.1,<1.26,>=1.21.1 in /usr/local/lib/python3.6/dist-packages (from requests->transformers<3.6.0,>=3.1.0->sentence-transformers) (1.24.3)\n",
      "Requirement already satisfied, skipping upgrade: idna<3,>=2.5 in /usr/local/lib/python3.6/dist-packages (from requests->transformers<3.6.0,>=3.1.0->sentence-transformers) (2.10)\n",
      "Requirement already satisfied, skipping upgrade: setuptools in /usr/local/lib/python3.6/dist-packages (from protobuf->transformers<3.6.0,>=3.1.0->sentence-transformers) (50.3.2)\n",
      "Requirement already satisfied, skipping upgrade: pyparsing>=2.0.2 in /usr/local/lib/python3.6/dist-packages (from packaging->transformers<3.6.0,>=3.1.0->sentence-transformers) (2.4.7)\n",
      "Requirement already satisfied, skipping upgrade: click in /usr/local/lib/python3.6/dist-packages (from sacremoses->transformers<3.6.0,>=3.1.0->sentence-transformers) (7.1.2)\n"
     ]
    }
   ],
   "source": [
    "!pip install -U sentence-transformers"
   ]
  },
  {
   "cell_type": "code",
   "execution_count": null,
   "metadata": {
    "id": "YoJzYON9WFxf"
   },
   "outputs": [],
   "source": [
    "from sklearn.metrics.pairwise import cosine_similarity\n",
    "from sentence_transformers import SentenceTransformer\n",
    "\n",
    "import numpy as np"
   ]
  },
  {
   "cell_type": "markdown",
   "metadata": {
    "id": "GCFfA-yQbsj6"
   },
   "source": [
    "Кавычки играют роль в ембедингах"
   ]
  },
  {
   "cell_type": "code",
   "execution_count": null,
   "metadata": {
    "id": "sW86FpVCVM3H"
   },
   "outputs": [],
   "source": [
    "sentences = ['Общество с ограниченной ответственностью \"Альянс\"', 'ООО \"Альянс\"', 'Limited Liability Company \"ALLIANCE\"',\n",
    "             'Закрытое акционерное общество \"Альянс\"', '\"Альянс\" ООО', 'The quick brown fox jumps over the lazy dog.']"
   ]
  },
  {
   "cell_type": "code",
   "execution_count": null,
   "metadata": {
    "colab": {
     "base_uri": "https://localhost:8080/"
    },
    "executionInfo": {
     "elapsed": 19233,
     "status": "ok",
     "timestamp": 1606728380964,
     "user": {
      "displayName": "Arshak Mkhoyan",
      "photoUrl": "",
      "userId": "14297434837926834507"
     },
     "user_tz": -300
    },
    "id": "QhGw_DRBUNKf",
    "outputId": "05802eac-7361-4704-ecb6-47026ed0bfa5"
   },
   "outputs": [
    {
     "name": "stderr",
     "output_type": "stream",
     "text": [
      "100%|██████████| 504M/504M [00:09<00:00, 52.2MB/s]\n"
     ]
    }
   ],
   "source": [
    "model_name = 'distiluse-base-multilingual-cased-v2'\n",
    "model = SentenceTransformer(model_name)"
   ]
  },
  {
   "cell_type": "code",
   "execution_count": null,
   "metadata": {
    "colab": {
     "base_uri": "https://localhost:8080/"
    },
    "executionInfo": {
     "elapsed": 30084,
     "status": "ok",
     "timestamp": 1606728391826,
     "user": {
      "displayName": "Arshak Mkhoyan",
      "photoUrl": "",
      "userId": "14297434837926834507"
     },
     "user_tz": -300
    },
    "id": "YwuiIMwhUgKB",
    "outputId": "313addd8-79e3-4c59-a857-1944b20da8b3"
   },
   "outputs": [
    {
     "data": {
      "text/plain": [
       "array([[ 0.9999999 ,  0.5486369 ,  0.6952752 ,  0.67023647,  0.5016235 ,\n",
       "        -0.01739621],\n",
       "       [ 0.5486369 ,  0.9999999 ,  0.5139819 ,  0.6391976 ,  0.97187495,\n",
       "        -0.09128959],\n",
       "       [ 0.6952752 ,  0.5139819 ,  1.        ,  0.44388545,  0.5261787 ,\n",
       "        -0.08022062],\n",
       "       [ 0.67023647,  0.6391976 ,  0.44388545,  1.0000001 ,  0.5752833 ,\n",
       "        -0.008537  ],\n",
       "       [ 0.5016235 ,  0.97187495,  0.5261787 ,  0.5752833 ,  1.        ,\n",
       "        -0.08786055],\n",
       "       [-0.01739621, -0.09128959, -0.08022062, -0.008537  , -0.08786055,\n",
       "         1.0000001 ]], dtype=float32)"
      ]
     },
     "execution_count": 12,
     "metadata": {
      "tags": []
     },
     "output_type": "execute_result"
    }
   ],
   "source": [
    "embeddings_sem = model.encode(sentences)\n",
    "cosine_similarity(embeddings_sem)"
   ]
  },
  {
   "cell_type": "code",
   "execution_count": null,
   "metadata": {
    "id": "b2g-MoOUUqDH"
   },
   "outputs": [],
   "source": [
    "model_trans_name = 'LaBSE'\n",
    "model_trans = SentenceTransformer(model_trans_name)"
   ]
  },
  {
   "cell_type": "code",
   "execution_count": null,
   "metadata": {
    "colab": {
     "base_uri": "https://localhost:8080/"
    },
    "executionInfo": {
     "elapsed": 882,
     "status": "ok",
     "timestamp": 1606805220004,
     "user": {
      "displayName": "Arshak Mkhoyan",
      "photoUrl": "",
      "userId": "14297434837926834507"
     },
     "user_tz": -300
    },
    "id": "ygaf2bczVP6-",
    "outputId": "5b90afa2-6574-4c2d-b7ab-5758a569d7d0"
   },
   "outputs": [
    {
     "data": {
      "text/plain": [
       "array([[0.99999976, 0.8513576 , 0.8138029 , 0.8968011 , 0.8435415 ,\n",
       "        0.05466371],\n",
       "       [0.8513576 , 1.0000002 , 0.6673491 , 0.8000151 , 0.97747874,\n",
       "        0.02361184],\n",
       "       [0.8138029 , 0.6673491 , 0.99999964, 0.72159904, 0.6802752 ,\n",
       "        0.03314735],\n",
       "       [0.8968011 , 0.8000151 , 0.72159904, 0.9999999 , 0.78278387,\n",
       "        0.03534291],\n",
       "       [0.8435415 , 0.97747874, 0.6802752 , 0.78278387, 1.0000001 ,\n",
       "        0.00109062],\n",
       "       [0.05466371, 0.02361184, 0.03314735, 0.03534291, 0.00109062,\n",
       "        1.0000002 ]], dtype=float32)"
      ]
     },
     "execution_count": 23,
     "metadata": {
      "tags": []
     },
     "output_type": "execute_result"
    }
   ],
   "source": [
    "embeddings_trans = model_trans.encode(sentences)\n",
    "cosine_similarity(embeddings_trans)"
   ]
  },
  {
   "cell_type": "markdown",
   "metadata": {
    "id": "Zvewq0SPb572"
   },
   "source": [
    "### Get embedings for company names and create a sample model"
   ]
  },
  {
   "cell_type": "markdown",
   "metadata": {
    "id": "4NMf6-qnzHdq"
   },
   "source": [
    "Train with batches as to embed all data requieres a lot of RAM.\n",
    "\n",
    "**Pipeline:**\n",
    "1. Get 100.000 training sample\n",
    "2. Embed eng and rus names\n",
    "3. Pass to model embeded names"
   ]
  },
  {
   "cell_type": "code",
   "execution_count": null,
   "metadata": {
    "colab": {
     "base_uri": "https://localhost:8080/",
     "height": 83,
     "referenced_widgets": [
      "d1682e09d0c343058f58a7947d9150da",
      "6ca09697dd834e549a5c45e34f15b4b1",
      "f1ae7017516247e4a0d39901db556640",
      "3416d8ab60194784bbb1e243dba579c2",
      "21312bac682b46e0ba246ca00494fbcd",
      "cef945437cd5417dbc42becaa8a00daf",
      "040bc2f4b8b9436bbdef785015b84ed2",
      "e85bb574b9bd4129b1d6f49d6f9f38f7"
     ]
    },
    "executionInfo": {
     "elapsed": 413462,
     "status": "ok",
     "timestamp": 1606903710503,
     "user": {
      "displayName": "Arshak Mkhoyan",
      "photoUrl": "",
      "userId": "14297434837926834507"
     },
     "user_tz": -300
    },
    "id": "9mE4RqVmdDlY",
    "outputId": "b717e75c-9ca2-4b40-9b0a-ec0a0fca9645"
   },
   "outputs": [
    {
     "data": {
      "application/vnd.jupyter.widget-view+json": {
       "model_id": "d1682e09d0c343058f58a7947d9150da",
       "version_major": 2,
       "version_minor": 0
      },
      "text/plain": [
       "HBox(children=(FloatProgress(value=0.0, description='Batches', max=3112.0, style=ProgressStyle(description_wid…"
      ]
     },
     "metadata": {
      "tags": []
     },
     "output_type": "display_data"
    },
    {
     "name": "stdout",
     "output_type": "stream",
     "text": [
      "\n"
     ]
    },
    {
     "data": {
      "text/plain": [
       "(796641, 768)"
      ]
     },
     "execution_count": 38,
     "metadata": {
      "tags": []
     },
     "output_type": "execute_result"
    }
   ],
   "source": [
    "ru_embedings = model_trans.encode(valid_data['ru_name'].to_list(), show_progress_bar=True,\n",
    "                                  batch_size=256, device='cuda:0', num_workers=4)\n",
    "\n",
    "ru_embedings.shape"
   ]
  },
  {
   "cell_type": "code",
   "execution_count": null,
   "metadata": {
    "id": "eBX7w4qss3w3"
   },
   "outputs": [],
   "source": [
    "eng_embedings = model_trans.encode(valid_data['eng_name'].to_list(), show_progress_bar=True,\n",
    "                                  batch_size=256, device='cuda:0', num_workers=4)\n",
    "\n",
    "eng_embedings.shape"
   ]
  },
  {
   "cell_type": "code",
   "execution_count": null,
   "metadata": {
    "id": "EtwvLcq9FFbw"
   },
   "outputs": [],
   "source": [
    "X_val = np.concatenate((ru_embedings, eng_embedings), axis=1)\n",
    "y_val = valid_data['answer'].astype(np.int8)"
   ]
  },
  {
   "cell_type": "markdown",
   "metadata": {
    "id": "Ka5ucaTDvkWL"
   },
   "source": [
    "### Finalizing the pipeline"
   ]
  },
  {
   "cell_type": "code",
   "execution_count": null,
   "metadata": {
    "colab": {
     "base_uri": "https://localhost:8080/"
    },
    "executionInfo": {
     "elapsed": 3702,
     "status": "ok",
     "timestamp": 1606900721603,
     "user": {
      "displayName": "Arshak Mkhoyan",
      "photoUrl": "",
      "userId": "14297434837926834507"
     },
     "user_tz": -300
    },
    "id": "RcCpLLHWvtb5",
    "outputId": "cd223067-bf6b-434c-84b9-d1e77bcd4c22"
   },
   "outputs": [
    {
     "name": "stdout",
     "output_type": "stream",
     "text": [
      "Requirement already up-to-date: sentence-transformers in /usr/local/lib/python3.6/dist-packages (0.3.9)\n",
      "Requirement already satisfied, skipping upgrade: torch>=1.6.0 in /usr/local/lib/python3.6/dist-packages (from sentence-transformers) (1.7.0+cu101)\n",
      "Requirement already satisfied, skipping upgrade: tqdm in /usr/local/lib/python3.6/dist-packages (from sentence-transformers) (4.41.1)\n",
      "Requirement already satisfied, skipping upgrade: scikit-learn in /usr/local/lib/python3.6/dist-packages (from sentence-transformers) (0.22.2.post1)\n",
      "Requirement already satisfied, skipping upgrade: numpy in /usr/local/lib/python3.6/dist-packages (from sentence-transformers) (1.18.5)\n",
      "Requirement already satisfied, skipping upgrade: transformers<3.6.0,>=3.1.0 in /usr/local/lib/python3.6/dist-packages (from sentence-transformers) (3.5.1)\n",
      "Requirement already satisfied, skipping upgrade: nltk in /usr/local/lib/python3.6/dist-packages (from sentence-transformers) (3.2.5)\n",
      "Requirement already satisfied, skipping upgrade: scipy in /usr/local/lib/python3.6/dist-packages (from sentence-transformers) (1.4.1)\n",
      "Requirement already satisfied, skipping upgrade: typing-extensions in /usr/local/lib/python3.6/dist-packages (from torch>=1.6.0->sentence-transformers) (3.7.4.3)\n",
      "Requirement already satisfied, skipping upgrade: dataclasses in /usr/local/lib/python3.6/dist-packages (from torch>=1.6.0->sentence-transformers) (0.8)\n",
      "Requirement already satisfied, skipping upgrade: future in /usr/local/lib/python3.6/dist-packages (from torch>=1.6.0->sentence-transformers) (0.16.0)\n",
      "Requirement already satisfied, skipping upgrade: joblib>=0.11 in /usr/local/lib/python3.6/dist-packages (from scikit-learn->sentence-transformers) (0.17.0)\n",
      "Requirement already satisfied, skipping upgrade: requests in /usr/local/lib/python3.6/dist-packages (from transformers<3.6.0,>=3.1.0->sentence-transformers) (2.23.0)\n",
      "Requirement already satisfied, skipping upgrade: sentencepiece==0.1.91 in /usr/local/lib/python3.6/dist-packages (from transformers<3.6.0,>=3.1.0->sentence-transformers) (0.1.91)\n",
      "Requirement already satisfied, skipping upgrade: filelock in /usr/local/lib/python3.6/dist-packages (from transformers<3.6.0,>=3.1.0->sentence-transformers) (3.0.12)\n",
      "Requirement already satisfied, skipping upgrade: protobuf in /usr/local/lib/python3.6/dist-packages (from transformers<3.6.0,>=3.1.0->sentence-transformers) (3.12.4)\n",
      "Requirement already satisfied, skipping upgrade: tokenizers==0.9.3 in /usr/local/lib/python3.6/dist-packages (from transformers<3.6.0,>=3.1.0->sentence-transformers) (0.9.3)\n",
      "Requirement already satisfied, skipping upgrade: packaging in /usr/local/lib/python3.6/dist-packages (from transformers<3.6.0,>=3.1.0->sentence-transformers) (20.4)\n",
      "Requirement already satisfied, skipping upgrade: regex!=2019.12.17 in /usr/local/lib/python3.6/dist-packages (from transformers<3.6.0,>=3.1.0->sentence-transformers) (2019.12.20)\n",
      "Requirement already satisfied, skipping upgrade: sacremoses in /usr/local/lib/python3.6/dist-packages (from transformers<3.6.0,>=3.1.0->sentence-transformers) (0.0.43)\n",
      "Requirement already satisfied, skipping upgrade: six in /usr/local/lib/python3.6/dist-packages (from nltk->sentence-transformers) (1.15.0)\n",
      "Requirement already satisfied, skipping upgrade: certifi>=2017.4.17 in /usr/local/lib/python3.6/dist-packages (from requests->transformers<3.6.0,>=3.1.0->sentence-transformers) (2020.11.8)\n",
      "Requirement already satisfied, skipping upgrade: urllib3!=1.25.0,!=1.25.1,<1.26,>=1.21.1 in /usr/local/lib/python3.6/dist-packages (from requests->transformers<3.6.0,>=3.1.0->sentence-transformers) (1.24.3)\n",
      "Requirement already satisfied, skipping upgrade: idna<3,>=2.5 in /usr/local/lib/python3.6/dist-packages (from requests->transformers<3.6.0,>=3.1.0->sentence-transformers) (2.10)\n",
      "Requirement already satisfied, skipping upgrade: chardet<4,>=3.0.2 in /usr/local/lib/python3.6/dist-packages (from requests->transformers<3.6.0,>=3.1.0->sentence-transformers) (3.0.4)\n",
      "Requirement already satisfied, skipping upgrade: setuptools in /usr/local/lib/python3.6/dist-packages (from protobuf->transformers<3.6.0,>=3.1.0->sentence-transformers) (50.3.2)\n",
      "Requirement already satisfied, skipping upgrade: pyparsing>=2.0.2 in /usr/local/lib/python3.6/dist-packages (from packaging->transformers<3.6.0,>=3.1.0->sentence-transformers) (2.4.7)\n",
      "Requirement already satisfied, skipping upgrade: click in /usr/local/lib/python3.6/dist-packages (from sacremoses->transformers<3.6.0,>=3.1.0->sentence-transformers) (7.1.2)\n"
     ]
    }
   ],
   "source": [
    "!pip install -U sentence-transformers"
   ]
  },
  {
   "cell_type": "code",
   "execution_count": null,
   "metadata": {
    "id": "Pjwydv5OKcFs"
   },
   "outputs": [],
   "source": [
    "from sentence_transformers import SentenceTransformer\n",
    "from tensorflow.keras import layers, Sequential\n",
    "from tensorflow import keras\n",
    "import tensorflow as tf"
   ]
  },
  {
   "cell_type": "code",
   "execution_count": null,
   "metadata": {
    "id": "vbIoBwFlvnjW"
   },
   "outputs": [],
   "source": [
    "model_trans_name = 'LaBSE'\n",
    "model_trans = SentenceTransformer(model_trans_name)"
   ]
  },
  {
   "cell_type": "code",
   "execution_count": null,
   "metadata": {
    "id": "Y0CaqA7cTr6Y"
   },
   "outputs": [],
   "source": [
    "# with tf.device('/GPU:0'):\n",
    "#   model.fit(X_val, y_val, batch_size=512, epochs=5)"
   ]
  },
  {
   "cell_type": "code",
   "execution_count": null,
   "metadata": {
    "id": "msqszajKVCeh"
   },
   "outputs": [],
   "source": [
    "class My_Custom_Generator(keras.utils.Sequence):\n",
    "    def __init__(self, X, y, batch_size):\n",
    "        self.X = X\n",
    "        self.y = y\n",
    "        self.batch_size = batch_size\n",
    "\n",
    "\n",
    "    def __len__(self) :\n",
    "        return (np.ceil(len(self.X) / float(self.batch_size))).astype(np.int)\n",
    "\n",
    "\n",
    "    def __getitem__(self, idx) :\n",
    "        batch_x = self.X[idx * self.batch_size : (idx+1) * self.batch_size]\n",
    "        batch_y = self.y[idx * self.batch_size : (idx+1) * self.batch_size]\n",
    "\n",
    "        ru_embedings = model_trans.encode(batch_x['ru_name'].to_list(), show_progress_bar=False,\n",
    "                                          batch_size=256, device='cuda:0', num_workers=4)\n",
    "        eng_embedings = model_trans.encode(batch_x['eng_name'].to_list(), show_progress_bar=False,\n",
    "                                      batch_size=256, device='cuda:0', num_workers=4)\n",
    "\n",
    "        batch_x = np.concatenate((ru_embedings, eng_embedings), axis=1)\n",
    "\n",
    "        return np.array(batch_x), np.array(batch_y)"
   ]
  },
  {
   "cell_type": "code",
   "execution_count": null,
   "metadata": {
    "id": "I_U1SB4ns0jI"
   },
   "outputs": [],
   "source": [
    "# X_val = valid_data[['ru_name', 'eng_name']]\n",
    "# y_val = valid_data['answer'].astype(np.int8)"
   ]
  },
  {
   "cell_type": "code",
   "execution_count": null,
   "metadata": {
    "id": "x2EkzaEJtGkH"
   },
   "outputs": [],
   "source": [
    "train_val_data, valid_val_data = train_test_split(valid_data, test_size=0.2, stratify=valid_data['answer'], random_state=42)"
   ]
  },
  {
   "cell_type": "code",
   "execution_count": null,
   "metadata": {
    "id": "HbpoalQLtST-"
   },
   "outputs": [],
   "source": [
    "X_train = train_val_data[['ru_name', 'eng_name']]\n",
    "y_train = train_val_data['answer'].astype(np.int8)\n",
    "\n",
    "X_val = valid_val_data[['ru_name', 'eng_name']]\n",
    "y_val = valid_val_data['answer'].astype(np.int8)"
   ]
  },
  {
   "cell_type": "code",
   "execution_count": null,
   "metadata": {
    "id": "3WWl3emvv8Pa"
   },
   "outputs": [],
   "source": [
    "model = keras.Sequential(\n",
    "    [\n",
    "        layers.Dense(128, input_shape=(1536,) , activation=\"relu\", name=\"Layer1\"),\n",
    "        layers.Dense(32, activation=\"relu\", name=\"Layer2\"),\n",
    "        layers.Dense(1, activation='sigmoid' ,name=\"SigmoidLayer\"),\n",
    "    ]\n",
    ")\n",
    "\n",
    "model.compile(\n",
    "    optimizer=keras.optimizers.Adam(),\n",
    "    loss=keras.losses.BinaryCrossentropy(),\n",
    "    metrics=[keras.metrics.BinaryAccuracy(), keras.metrics.Precision(), keras.metrics.Recall()],\n",
    ")\n",
    "\n",
    "# model.fit(X_val, y_val, batch_size=512, epochs=5)"
   ]
  },
  {
   "cell_type": "code",
   "execution_count": null,
   "metadata": {
    "id": "mixdD_onoNmB"
   },
   "outputs": [],
   "source": [
    "batch_size = 50_000\n",
    "\n",
    "training_batch_generator = My_Custom_Generator(X_train, y_train, batch_size)\n",
    "validation_batch_generator = My_Custom_Generator(X_val, y_val, batch_size)"
   ]
  },
  {
   "cell_type": "code",
   "execution_count": null,
   "metadata": {
    "colab": {
     "base_uri": "https://localhost:8080/"
    },
    "id": "XdITK8Servwc",
    "outputId": "c2f205b0-0671-48e0-ae14-bd6e68247db5"
   },
   "outputs": [
    {
     "name": "stdout",
     "output_type": "stream",
     "text": [
      "Epoch 1/10\n",
      "13/13 [==============================] - ETA: 0s - loss: 0.4242 - binary_accuracy: 0.9141 - precision_1: 0.0444 - recall_1: 0.0424 "
     ]
    }
   ],
   "source": [
    "model.fit(x=training_batch_generator,\n",
    "          epochs=10,\n",
    "          verbose=1,\n",
    "          validation_data=validation_batch_generator,\n",
    "          )"
   ]
  },
  {
   "cell_type": "code",
   "execution_count": null,
   "metadata": {
    "id": "NXDUKkYvvUHH"
   },
   "outputs": [],
   "source": []
  }
 ],
 "metadata": {
  "accelerator": "GPU",
  "colab": {
   "authorship_tag": "ABX9TyMwdXNSE8K46ExuCzSjsJ5c",
   "collapsed_sections": [
    "0tfoTNg46x2u",
    "LLSFmXlXDcV6",
    "Zvewq0SPb572"
   ],
   "machine_shape": "hm",
   "mount_file_id": "1nIcgHFZ4RWsAKi6_8i3LG0PtFzR6VbPO",
   "name": "EDA+Draft.ipynb",
   "provenance": []
  },
  "kernelspec": {
   "display_name": "Python 3",
   "language": "python",
   "name": "python3"
  },
  "language_info": {
   "codemirror_mode": {
    "name": "ipython",
    "version": 3
   },
   "file_extension": ".py",
   "mimetype": "text/x-python",
   "name": "python",
   "nbconvert_exporter": "python",
   "pygments_lexer": "ipython3",
   "version": "3.7.6"
  },
  "widgets": {
   "application/vnd.jupyter.widget-state+json": {
    "040bc2f4b8b9436bbdef785015b84ed2": {
     "model_module": "@jupyter-widgets/controls",
     "model_name": "DescriptionStyleModel",
     "state": {
      "_model_module": "@jupyter-widgets/controls",
      "_model_module_version": "1.5.0",
      "_model_name": "DescriptionStyleModel",
      "_view_count": null,
      "_view_module": "@jupyter-widgets/base",
      "_view_module_version": "1.2.0",
      "_view_name": "StyleView",
      "description_width": ""
     }
    },
    "21312bac682b46e0ba246ca00494fbcd": {
     "model_module": "@jupyter-widgets/controls",
     "model_name": "ProgressStyleModel",
     "state": {
      "_model_module": "@jupyter-widgets/controls",
      "_model_module_version": "1.5.0",
      "_model_name": "ProgressStyleModel",
      "_view_count": null,
      "_view_module": "@jupyter-widgets/base",
      "_view_module_version": "1.2.0",
      "_view_name": "StyleView",
      "bar_color": null,
      "description_width": "initial"
     }
    },
    "3416d8ab60194784bbb1e243dba579c2": {
     "model_module": "@jupyter-widgets/controls",
     "model_name": "HTMLModel",
     "state": {
      "_dom_classes": [],
      "_model_module": "@jupyter-widgets/controls",
      "_model_module_version": "1.5.0",
      "_model_name": "HTMLModel",
      "_view_count": null,
      "_view_module": "@jupyter-widgets/controls",
      "_view_module_version": "1.5.0",
      "_view_name": "HTMLView",
      "description": "",
      "description_tooltip": null,
      "layout": "IPY_MODEL_e85bb574b9bd4129b1d6f49d6f9f38f7",
      "placeholder": "​",
      "style": "IPY_MODEL_040bc2f4b8b9436bbdef785015b84ed2",
      "value": " 3112/3112 [06:38&lt;00:00,  7.82it/s]"
     }
    },
    "6ca09697dd834e549a5c45e34f15b4b1": {
     "model_module": "@jupyter-widgets/base",
     "model_name": "LayoutModel",
     "state": {
      "_model_module": "@jupyter-widgets/base",
      "_model_module_version": "1.2.0",
      "_model_name": "LayoutModel",
      "_view_count": null,
      "_view_module": "@jupyter-widgets/base",
      "_view_module_version": "1.2.0",
      "_view_name": "LayoutView",
      "align_content": null,
      "align_items": null,
      "align_self": null,
      "border": null,
      "bottom": null,
      "display": null,
      "flex": null,
      "flex_flow": null,
      "grid_area": null,
      "grid_auto_columns": null,
      "grid_auto_flow": null,
      "grid_auto_rows": null,
      "grid_column": null,
      "grid_gap": null,
      "grid_row": null,
      "grid_template_areas": null,
      "grid_template_columns": null,
      "grid_template_rows": null,
      "height": null,
      "justify_content": null,
      "justify_items": null,
      "left": null,
      "margin": null,
      "max_height": null,
      "max_width": null,
      "min_height": null,
      "min_width": null,
      "object_fit": null,
      "object_position": null,
      "order": null,
      "overflow": null,
      "overflow_x": null,
      "overflow_y": null,
      "padding": null,
      "right": null,
      "top": null,
      "visibility": null,
      "width": null
     }
    },
    "cef945437cd5417dbc42becaa8a00daf": {
     "model_module": "@jupyter-widgets/base",
     "model_name": "LayoutModel",
     "state": {
      "_model_module": "@jupyter-widgets/base",
      "_model_module_version": "1.2.0",
      "_model_name": "LayoutModel",
      "_view_count": null,
      "_view_module": "@jupyter-widgets/base",
      "_view_module_version": "1.2.0",
      "_view_name": "LayoutView",
      "align_content": null,
      "align_items": null,
      "align_self": null,
      "border": null,
      "bottom": null,
      "display": null,
      "flex": null,
      "flex_flow": null,
      "grid_area": null,
      "grid_auto_columns": null,
      "grid_auto_flow": null,
      "grid_auto_rows": null,
      "grid_column": null,
      "grid_gap": null,
      "grid_row": null,
      "grid_template_areas": null,
      "grid_template_columns": null,
      "grid_template_rows": null,
      "height": null,
      "justify_content": null,
      "justify_items": null,
      "left": null,
      "margin": null,
      "max_height": null,
      "max_width": null,
      "min_height": null,
      "min_width": null,
      "object_fit": null,
      "object_position": null,
      "order": null,
      "overflow": null,
      "overflow_x": null,
      "overflow_y": null,
      "padding": null,
      "right": null,
      "top": null,
      "visibility": null,
      "width": null
     }
    },
    "d1682e09d0c343058f58a7947d9150da": {
     "model_module": "@jupyter-widgets/controls",
     "model_name": "HBoxModel",
     "state": {
      "_dom_classes": [],
      "_model_module": "@jupyter-widgets/controls",
      "_model_module_version": "1.5.0",
      "_model_name": "HBoxModel",
      "_view_count": null,
      "_view_module": "@jupyter-widgets/controls",
      "_view_module_version": "1.5.0",
      "_view_name": "HBoxView",
      "box_style": "",
      "children": [
       "IPY_MODEL_f1ae7017516247e4a0d39901db556640",
       "IPY_MODEL_3416d8ab60194784bbb1e243dba579c2"
      ],
      "layout": "IPY_MODEL_6ca09697dd834e549a5c45e34f15b4b1"
     }
    },
    "e85bb574b9bd4129b1d6f49d6f9f38f7": {
     "model_module": "@jupyter-widgets/base",
     "model_name": "LayoutModel",
     "state": {
      "_model_module": "@jupyter-widgets/base",
      "_model_module_version": "1.2.0",
      "_model_name": "LayoutModel",
      "_view_count": null,
      "_view_module": "@jupyter-widgets/base",
      "_view_module_version": "1.2.0",
      "_view_name": "LayoutView",
      "align_content": null,
      "align_items": null,
      "align_self": null,
      "border": null,
      "bottom": null,
      "display": null,
      "flex": null,
      "flex_flow": null,
      "grid_area": null,
      "grid_auto_columns": null,
      "grid_auto_flow": null,
      "grid_auto_rows": null,
      "grid_column": null,
      "grid_gap": null,
      "grid_row": null,
      "grid_template_areas": null,
      "grid_template_columns": null,
      "grid_template_rows": null,
      "height": null,
      "justify_content": null,
      "justify_items": null,
      "left": null,
      "margin": null,
      "max_height": null,
      "max_width": null,
      "min_height": null,
      "min_width": null,
      "object_fit": null,
      "object_position": null,
      "order": null,
      "overflow": null,
      "overflow_x": null,
      "overflow_y": null,
      "padding": null,
      "right": null,
      "top": null,
      "visibility": null,
      "width": null
     }
    },
    "f1ae7017516247e4a0d39901db556640": {
     "model_module": "@jupyter-widgets/controls",
     "model_name": "FloatProgressModel",
     "state": {
      "_dom_classes": [],
      "_model_module": "@jupyter-widgets/controls",
      "_model_module_version": "1.5.0",
      "_model_name": "FloatProgressModel",
      "_view_count": null,
      "_view_module": "@jupyter-widgets/controls",
      "_view_module_version": "1.5.0",
      "_view_name": "ProgressView",
      "bar_style": "success",
      "description": "Batches: 100%",
      "description_tooltip": null,
      "layout": "IPY_MODEL_cef945437cd5417dbc42becaa8a00daf",
      "max": 3112,
      "min": 0,
      "orientation": "horizontal",
      "style": "IPY_MODEL_21312bac682b46e0ba246ca00494fbcd",
      "value": 3112
     }
    }
   }
  }
 },
 "nbformat": 4,
 "nbformat_minor": 1
}
