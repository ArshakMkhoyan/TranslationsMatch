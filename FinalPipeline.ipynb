{
 "cells": [
  {
   "cell_type": "code",
   "execution_count": null,
   "metadata": {
    "id": "iM0Ust_TBOkX"
   },
   "outputs": [],
   "source": [
    "from utils.utils import init_model, get_model, train_iter, train_epoch\n",
    "\n",
    "from tensorflow.keras import layers, Sequential\n",
    "from tensorflow import keras\n",
    "\n",
    "from glob import glob\n",
    "import pandas as pd\n",
    "import numpy as np\n",
    "import os\n",
    "\n",
    "pd.options.display.max_colwidth = 100"
   ]
  },
  {
   "cell_type": "code",
   "execution_count": null,
   "metadata": {
    "id": "eo5RxuLzHTXu"
   },
   "outputs": [],
   "source": [
    "os.chdir(\"/content/drive/MyDrive/SKBKonturTest\")"
   ]
  },
  {
   "cell_type": "markdown",
   "metadata": {
    "id": "bdokk2K0OJin"
   },
   "source": [
    "## Train model on full train data"
   ]
  },
  {
   "cell_type": "markdown",
   "metadata": {
    "id": "L9RiyduCONvP"
   },
   "source": [
    "Number of epochs is taken from training on 80% of train data with 20% - on validation. Based on early stoping, 9 epochs were enough."
   ]
  },
  {
   "cell_type": "code",
   "execution_count": null,
   "metadata": {
    "id": "O6FAwDdMHZa5"
   },
   "outputs": [],
   "source": [
    "batch_size = 1024\n",
    "epochs = 9"
   ]
  },
  {
   "cell_type": "code",
   "execution_count": null,
   "metadata": {
    "colab": {
     "base_uri": "https://localhost:8080/"
    },
    "executionInfo": {
     "elapsed": 9170,
     "status": "ok",
     "timestamp": 1607169172901,
     "user": {
      "displayName": "Arshak Mkhoyan",
      "photoUrl": "",
      "userId": "14297434837926834507"
     },
     "user_tz": -300
    },
    "id": "alusLQ_DHaOc",
    "outputId": "7fe9d348-5092-4062-db10-3bf0aa331bae"
   },
   "outputs": [
    {
     "name": "stdout",
     "output_type": "stream",
     "text": [
      "Loaded model: trained_models/full_train/model_epoch-6.h5\n"
     ]
    }
   ],
   "source": [
    "models_train_dir='trained_models/full_train'\n",
    "model = get_model(models_train_dir)"
   ]
  },
  {
   "cell_type": "code",
   "execution_count": null,
   "metadata": {
    "colab": {
     "base_uri": "https://localhost:8080/"
    },
    "executionInfo": {
     "elapsed": 919460,
     "status": "ok",
     "timestamp": 1607170093567,
     "user": {
      "displayName": "Arshak Mkhoyan",
      "photoUrl": "",
      "userId": "14297434837926834507"
     },
     "user_tz": -300
    },
    "id": "ICsXdeKsNKIK",
    "outputId": "379eff8b-4841-4eeb-eacb-522768a7aabb"
   },
   "outputs": [
    {
     "name": "stdout",
     "output_type": "stream",
     "text": [
      "Epoch: 7/9\n",
      "293/293 [==============================] - 2s 6ms/step - loss: 0.0221 - binary_accuracy: 0.9942 - precision: 0.9683 - recall: 0.9020\n",
      "293/293 [==============================] - 2s 6ms/step - loss: 0.0214 - binary_accuracy: 0.9946 - precision: 0.9720 - recall: 0.9090\n",
      "293/293 [==============================] - 2s 6ms/step - loss: 0.0228 - binary_accuracy: 0.9941 - precision: 0.9682 - recall: 0.8995\n",
      "293/293 [==============================] - 2s 6ms/step - loss: 0.0222 - binary_accuracy: 0.9943 - precision: 0.9707 - recall: 0.9051\n",
      "293/293 [==============================] - 2s 6ms/step - loss: 0.0217 - binary_accuracy: 0.9944 - precision: 0.9691 - recall: 0.9077\n",
      "293/293 [==============================] - 2s 6ms/step - loss: 0.0222 - binary_accuracy: 0.9942 - precision: 0.9702 - recall: 0.9031\n",
      "293/293 [==============================] - 2s 6ms/step - loss: 0.0224 - binary_accuracy: 0.9942 - precision: 0.9679 - recall: 0.9031\n",
      "293/293 [==============================] - 2s 6ms/step - loss: 0.0228 - binary_accuracy: 0.9941 - precision: 0.9681 - recall: 0.9013\n",
      "293/293 [==============================] - 2s 6ms/step - loss: 0.0211 - binary_accuracy: 0.9946 - precision: 0.9714 - recall: 0.9099\n",
      "293/293 [==============================] - 2s 6ms/step - loss: 0.0216 - binary_accuracy: 0.9945 - precision: 0.9713 - recall: 0.9067\n",
      "293/293 [==============================] - 2s 7ms/step - loss: 0.0214 - binary_accuracy: 0.9944 - precision: 0.9696 - recall: 0.9038\n",
      "293/293 [==============================] - 2s 6ms/step - loss: 0.0213 - binary_accuracy: 0.9945 - precision: 0.9704 - recall: 0.9073\n",
      "293/293 [==============================] - 2s 6ms/step - loss: 0.0214 - binary_accuracy: 0.9945 - precision: 0.9717 - recall: 0.9058\n",
      "82/82 [==============================] - 0s 6ms/step - loss: 0.0207 - binary_accuracy: 0.9946 - precision: 0.9718 - recall: 0.9095\n",
      "----------------------------------------\n",
      "Epoch: 8/9\n",
      "293/293 [==============================] - 2s 6ms/step - loss: 0.0212 - binary_accuracy: 0.9946 - precision: 0.9718 - recall: 0.9067\n",
      "293/293 [==============================] - 2s 6ms/step - loss: 0.0208 - binary_accuracy: 0.9948 - precision: 0.9731 - recall: 0.9115\n",
      "293/293 [==============================] - 2s 6ms/step - loss: 0.0220 - binary_accuracy: 0.9942 - precision: 0.9690 - recall: 0.9031\n",
      "293/293 [==============================] - 2s 6ms/step - loss: 0.0216 - binary_accuracy: 0.9944 - precision: 0.9707 - recall: 0.9064\n",
      "293/293 [==============================] - 3s 9ms/step - loss: 0.0211 - binary_accuracy: 0.9946 - precision: 0.9701 - recall: 0.9111\n",
      "293/293 [==============================] - 2s 6ms/step - loss: 0.0215 - binary_accuracy: 0.9945 - precision: 0.9722 - recall: 0.9067\n",
      "293/293 [==============================] - 2s 6ms/step - loss: 0.0221 - binary_accuracy: 0.9943 - precision: 0.9703 - recall: 0.9030\n",
      "293/293 [==============================] - 2s 6ms/step - loss: 0.0220 - binary_accuracy: 0.9944 - precision: 0.9712 - recall: 0.9051\n",
      "293/293 [==============================] - 2s 6ms/step - loss: 0.0206 - binary_accuracy: 0.9947 - precision: 0.9738 - recall: 0.9111\n",
      "293/293 [==============================] - 2s 6ms/step - loss: 0.0211 - binary_accuracy: 0.9945 - precision: 0.9702 - recall: 0.9071\n",
      "293/293 [==============================] - 2s 8ms/step - loss: 0.0209 - binary_accuracy: 0.9945 - precision: 0.9694 - recall: 0.9071\n",
      "293/293 [==============================] - 3s 10ms/step - loss: 0.0209 - binary_accuracy: 0.9946 - precision: 0.9721 - recall: 0.9088\n",
      "293/293 [==============================] - 2s 6ms/step - loss: 0.0206 - binary_accuracy: 0.9947 - precision: 0.9733 - recall: 0.9091\n",
      "82/82 [==============================] - 0s 6ms/step - loss: 0.0206 - binary_accuracy: 0.9948 - precision: 0.9716 - recall: 0.9132\n",
      "----------------------------------------\n",
      "Epoch: 9/9\n",
      "293/293 [==============================] - 2s 6ms/step - loss: 0.0209 - binary_accuracy: 0.9946 - precision: 0.9706 - recall: 0.9080\n",
      "293/293 [==============================] - 2s 6ms/step - loss: 0.0202 - binary_accuracy: 0.9947 - precision: 0.9737 - recall: 0.9107\n",
      "293/293 [==============================] - 2s 6ms/step - loss: 0.0217 - binary_accuracy: 0.9945 - precision: 0.9717 - recall: 0.9057\n",
      "293/293 [==============================] - 2s 6ms/step - loss: 0.0211 - binary_accuracy: 0.9946 - precision: 0.9721 - recall: 0.9092\n",
      "293/293 [==============================] - 2s 8ms/step - loss: 0.0203 - binary_accuracy: 0.9947 - precision: 0.9713 - recall: 0.9116\n",
      "293/293 [==============================] - 3s 9ms/step - loss: 0.0211 - binary_accuracy: 0.9945 - precision: 0.9728 - recall: 0.9065\n",
      "293/293 [==============================] - 2s 6ms/step - loss: 0.0217 - binary_accuracy: 0.9944 - precision: 0.9706 - recall: 0.9048\n",
      "293/293 [==============================] - 2s 6ms/step - loss: 0.0214 - binary_accuracy: 0.9946 - precision: 0.9724 - recall: 0.9078\n",
      "293/293 [==============================] - 2s 6ms/step - loss: 0.0200 - binary_accuracy: 0.9950 - precision: 0.9747 - recall: 0.9156\n",
      "293/293 [==============================] - 2s 6ms/step - loss: 0.0206 - binary_accuracy: 0.9947 - precision: 0.9716 - recall: 0.9109\n",
      "293/293 [==============================] - 2s 7ms/step - loss: 0.0204 - binary_accuracy: 0.9946 - precision: 0.9697 - recall: 0.9083\n",
      "293/293 [==============================] - 2s 6ms/step - loss: 0.0203 - binary_accuracy: 0.9947 - precision: 0.9726 - recall: 0.9111\n",
      "293/293 [==============================] - 2s 8ms/step - loss: 0.0201 - binary_accuracy: 0.9948 - precision: 0.9740 - recall: 0.9104\n",
      "82/82 [==============================] - 1s 8ms/step - loss: 0.0202 - binary_accuracy: 0.9949 - precision: 0.9732 - recall: 0.9132\n",
      "----------------------------------------\n"
     ]
    }
   ],
   "source": [
    "n_processed = len(os.listdir('processed_data/full_train')) // 2\n",
    "n_epochs_trained = len(os.listdir(models_train_dir))\n",
    "\n",
    "for epoch in range(n_epochs_trained, epochs):\n",
    "    print(f'Epoch: {epoch + 1}/{epochs}')\n",
    "    model = train_epoch(model)\n",
    "    model.save(f'trained_models/full_train/model_epoch-{epoch + 1}.h5')\n",
    "    print('-' * 40)\n",
    "\n",
    "model.save('best_models/full_train/best_model.h5')"
   ]
  },
  {
   "cell_type": "markdown",
   "metadata": {
    "id": "V5ae3AlznHNF"
   },
   "source": [
    "## Generate predictions for test data\n"
   ]
  },
  {
   "cell_type": "code",
   "execution_count": null,
   "metadata": {
    "id": "0YJGr1K6nGuc"
   },
   "outputs": [],
   "source": [
    "model = keras.models.load_model('best_models/full_train/best_model.h5')"
   ]
  },
  {
   "cell_type": "code",
   "execution_count": null,
   "metadata": {
    "id": "_wRnNAKPnVLI"
   },
   "outputs": [],
   "source": [
    "test_X = np.load('processed_data/test/X_processed_0.npy')"
   ]
  },
  {
   "cell_type": "code",
   "execution_count": null,
   "metadata": {
    "id": "n4IoLPxpnXA2"
   },
   "outputs": [],
   "source": [
    "y_pred_test = (model.predict(test_X) > 0.5).reshape(-1)\n",
    "y_pred_test = pd.Series(y_pred_test)\n",
    "y_pred_test.name = 'answer'\n",
    "\n",
    "y_pred_test.to_csv('result.tsv', index=False)"
   ]
  },
  {
   "cell_type": "code",
   "execution_count": null,
   "metadata": {
    "colab": {
     "base_uri": "https://localhost:8080/"
    },
    "executionInfo": {
     "elapsed": 1164,
     "status": "ok",
     "timestamp": 1607172521709,
     "user": {
      "displayName": "Arshak Mkhoyan",
      "photoUrl": "",
      "userId": "14297434837926834507"
     },
     "user_tz": -300
    },
    "id": "TjK3csVNQOv4",
    "outputId": "67811bee-aaf4-41ad-bf3d-aa1a201c89c4"
   },
   "outputs": [
    {
     "data": {
      "text/plain": [
       "0.041437595627537516"
      ]
     },
     "execution_count": 12,
     "metadata": {
      "tags": []
     },
     "output_type": "execute_result"
    }
   ],
   "source": [
    "y_pred_test.mean()"
   ]
  },
  {
   "cell_type": "code",
   "execution_count": null,
   "metadata": {
    "id": "72WcVRti1AmA"
   },
   "outputs": [],
   "source": []
  }
 ],
 "metadata": {
  "colab": {
   "authorship_tag": "ABX9TyP+YKnNV+s6BO4KB3hN5Npu",
   "collapsed_sections": [],
   "mount_file_id": "1A8HMIPWyLoJs_EKRYFWDkojcsPp56-wY",
   "name": "FinalPipline.ipynb",
   "provenance": []
  },
  "kernelspec": {
   "display_name": "Python 3",
   "language": "python",
   "name": "python3"
  },
  "language_info": {
   "codemirror_mode": {
    "name": "ipython",
    "version": 3
   },
   "file_extension": ".py",
   "mimetype": "text/x-python",
   "name": "python",
   "nbconvert_exporter": "python",
   "pygments_lexer": "ipython3",
   "version": "3.7.6"
  }
 },
 "nbformat": 4,
 "nbformat_minor": 1
}
